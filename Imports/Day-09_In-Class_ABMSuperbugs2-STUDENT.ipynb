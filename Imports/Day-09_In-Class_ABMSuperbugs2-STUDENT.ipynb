{
 "cells": [
  {
   "attachments": {},
   "cell_type": "markdown",
   "metadata": {
    "pycharm": {
     "name": "#%% md\n"
    }
   },
   "source": [
    "# In-Class Assignment: Agent Based Modeling of Superbugs (part 2)\n",
    "## With more code review!\n",
    "# Day 09\n",
    "# CMSE 202\n",
    "\n",
    "<img src=\"http://abstrusegoose.com/strips/you_down_wit_OPC-yeah_you_know_me.png\" width=600px>\n",
    "<p style=\"text-align: right;\">Amusing comic from: http://abstrusegoose.com/ </p>\n"
   ]
  },
  {
   "cell_type": "markdown",
   "metadata": {
    "pycharm": {
     "name": "#%% md\n"
    }
   },
   "source": [
    "### <p style=\"text-align: right;\"> &#9989; **Ben Lascola** </p>\n",
    "#### <p style=\"text-align: right;\"> &#9989; Put your group member names here</p>"
   ]
  },
  {
   "cell_type": "markdown",
   "metadata": {
    "pycharm": {
     "name": "#%% md\n"
    }
   },
   "source": [
    "## Agenda for today's class\n",
    "\n",
    "- [Part 1: Pre-class assignment review and discussion](#pca-review)\n",
    "- [Part 2: Revisiting your assignment from last class, building your Python class(es)](#revisit)\n",
    "- [Part 3: Understanding someone else's code](#someone-else)\n",
    "- [Part 4: Reviewing the provided code](#code-review)\n",
    "- [Part 5: Running the simulation](#simulation)\n",
    "- [Part 6: Testing Scientific Questions](#testing)"
   ]
  },
  {
   "cell_type": "markdown",
   "metadata": {
    "pycharm": {
     "name": "#%% md\n"
    }
   },
   "source": [
    "---\n",
    "<a id=\"pca-review\"></a>\n",
    "## Part 1. Pre-class assignment review and discussion\n",
    "\n",
    "Did anyone have any specific issues with the pre-class assignment?\n",
    "\n",
    "Let's take a moment to highlight some key concepts. **Discuss with your group** the following prompts and write down a some brief notes from your discussion.\n",
    "\n",
    "&#9989; **Question 1:** What did you see as some of the key differences, advantages, and disadvantages in the linear, functional, and object oriented programming approaches you reviewed in the pre-class assignment?"
   ]
  },
  {
   "cell_type": "markdown",
   "metadata": {
    "pycharm": {
     "name": "#%% md\n"
    }
   },
   "source": [
    "Linear is good for simple tasks but cant do super complex things, functional is better for modularity and is predictable but has a steeper learning curve, object oriented is more reusable and maintainable but is also more complex."
   ]
  },
  {
   "cell_type": "markdown",
   "metadata": {
    "pycharm": {
     "name": "#%% md\n"
    }
   },
   "source": [
    "&#9989; **Question 2:** What is a Python \"docstring\", how it is used, and why is it useful?"
   ]
  },
  {
   "cell_type": "markdown",
   "metadata": {
    "pycharm": {
     "name": "#%% md\n"
    }
   },
   "source": [
    "Similar to a code comment but gives a deeper explanation for a line of code "
   ]
  },
  {
   "cell_type": "markdown",
   "metadata": {
    "pycharm": {
     "name": "#%% md\n"
    }
   },
   "source": [
    "---\n",
    "<a id=\"revisit\"></a>\n",
    "##  Part 2. Revisiting your assignment from last class, building your Python class(es)\n",
    "\n",
    "Now that you've had a bit more time to think about objected oriented programming and review some code that was written to build an agent-based model in an objected oriented way, **you're going to spend the first 30 minutes of your group activity time picking up where you left off with your \"superbugs\" model.**\n",
    "\n",
    "**&#9989; Do This:** Take this time to review the progress you made last week on initializing your petri dish. If you didn't finish it, try to finish it. If you finished it, review your code and think about ways you might be able to make it better. Reviewing your own code will sometimes feel like looking at someone else's code. You might find that your \"present self\" isn't a huge fan of how your \"past self\" did things (especially if your past self didn't leave you any comments!). **Do this as a group!**\n",
    "\n",
    "Copy your code from last time into this notebook and try to get your petri dish code working or make improvements to a functioning version.\n",
    "\n",
    "**If you already managed to get the basic petri dish initialization working, start building other methods that would be necessary to evolve the model**."
   ]
  },
  {
   "cell_type": "code",
   "execution_count": null,
   "metadata": {
    "pycharm": {
     "name": "#%%\n"
    }
   },
   "outputs": [],
   "source": [
    "# CODE GOES HERE!\n",
    "import numpy as np\n",
    "import matplotlib.pyplot as plt\n",
    "\n",
    "class Bacteria:\n",
    "    def __init__(self, genes, position):\n",
    "        self.genes = np.array(genes)  # RGB values for the bacteria's genes\n",
    "        self.position = np.array(position, dtype=np.float64)  # Bacteria's position (x, y)\n",
    "        self.alive = True  # The bacteria is alive\n",
    "\n",
    "    def move_towards_center(self, center):\n",
    "        # Move the bacteria slightly towards the center\n",
    "        direction = center - self.position\n",
    "        norm = np.linalg.norm(direction)\n",
    "        if norm != 0:\n",
    "            direction /= norm  # Normalize the direction vector\n",
    "        self.position += direction * 1.5  # Move at half-unit step towards the center\n",
    "\n",
    "    def replicate(self):\n",
    "        # Create a new bacteria in the same position\n",
    "        return Bacteria(self.genes, self.position.copy())\n",
    "\n",
    "    def draw(self, ax):\n",
    "        if self.alive:\n",
    "            ax.scatter(self.position[0], self.position[1], color=self.genes, s=100)  # Draw the bacterium\n",
    "\n",
    "\n",
    "class PetriDish:\n",
    "    def __init__(self, width, height):\n",
    "        self.width = width\n",
    "        self.height = height\n",
    "        self.center = np.array([width // 2, height // 2])  # Center of the petri dish\n",
    "        self.antibiotic_levels = np.zeros((height, width))  # 2D array for antibiotic levels (grayscale)\n",
    "        self.bacteria_list = []\n",
    "\n",
    "    def add_bacteria(self, bacteria):\n",
    "        self.bacteria_list.append(bacteria)\n",
    "\n",
    "    def generate_symmetrical_antibiotic_gradient(self):\n",
    "        num_bands = 9  # Total of 9 vertical bands\n",
    "        band_width = self.width // num_bands\n",
    "        for i in range(self.width):\n",
    "            band_idx = i // band_width\n",
    "            # Create a mirrored gradient (low resistance on sides (white), high in the middle (black))\n",
    "            if i < self.width // 2:\n",
    "                gray_value = 1 - (band_idx / (num_bands // 2))  # Reversed grayscale\n",
    "            else:\n",
    "                gray_value = 1 - ((num_bands - 1 - band_idx) / (num_bands // 2))  # Mirror bands\n",
    "            self.antibiotic_levels[:, i] = gray_value  # Apply grayscale value to the column\n",
    "\n",
    "    def replicate_bacteria(self):\n",
    "        new_bacteria = []\n",
    "        for bacteria in self.bacteria_list:\n",
    "            if np.random.rand() > self.antibiotic_level_at(bacteria.position):\n",
    "                new_bacteria.append(bacteria.replicate())\n",
    "            bacteria.move_towards_center(self.center)  # Move towards the center\n",
    "        self.bacteria_list.extend(new_bacteria)\n",
    "\n",
    "    def antibiotic_level_at(self, position):\n",
    "        x, y = int(position[0]), int(position[1])\n",
    "        return self.antibiotic_levels[y, x]  # Return the antibiotic level (grayscale value)\n",
    "\n",
    "    def draw(self):\n",
    "        fig, ax = plt.subplots(figsize=(10, 5))  # Adjusted to match the aspect ratio of your image\n",
    "        \n",
    "        # Draw the antibiotic levels (grayscale bands)\n",
    "        ax.imshow(self.antibiotic_levels, cmap='gray', interpolation='nearest', origin='lower')\n",
    "\n",
    "        # Draw the bacteria\n",
    "        for bacteria in self.bacteria_list:\n",
    "            bacteria.draw(ax)\n",
    "\n",
    "        plt.xlim(0, self.width)\n",
    "        plt.ylim(0, self.height)\n",
    "        plt.pause(0.1)  # Pause for animation effect\n",
    "        plt.clf()  # Clear the frame for the next step\n",
    "\n",
    "\n",
    "# Example usage\n",
    "petri_dish = PetriDish(90, 50)  # Create a petri dish of size 90x50\n",
    "\n",
    "# Generate the reversed antibiotic gradient with white sides and a dark middle\n",
    "petri_dish.generate_symmetrical_antibiotic_gradient()\n",
    "\n",
    "# Add initial bacteria on the left and right sides only\n",
    "for i in range(0, petri_dish.height, 5):  # Spacing out the bacteria evenly\n",
    "    # Left side bacteria\n",
    "    petri_dish.add_bacteria(Bacteria([np.random.rand(), np.random.rand(), np.random.rand()], (0, i)))\n",
    "    # Right side bacteria\n",
    "    petri_dish.add_bacteria(Bacteria([np.random.rand(), np.random.rand(), np.random.rand()], (petri_dish.width - 1, i)))\n",
    "\n",
    "# Simulate bacteria replication towards the center over multiple steps\n",
    "for _ in range(50):  # Run for 50 time steps\n",
    "    petri_dish.replicate_bacteria()\n",
    "    petri_dish.draw()\n",
    "\n",
    "plt.show()  # Final display"
   ]
  },
  {
   "cell_type": "markdown",
   "metadata": {
    "pycharm": {
     "name": "#%% md\n"
    }
   },
   "source": [
    "## &#128721; STOP\n",
    "\n",
    "Check-in with the rest of the group and with the instructor"
   ]
  },
  {
   "cell_type": "markdown",
   "metadata": {
    "pycharm": {
     "name": "#%% md\n"
    }
   },
   "source": [
    "----\n",
    "<a id=\"someone-else\"></a>\n",
    "## Part 3. Understanding someone else's code\n",
    "\n",
    "In the pre-class assignment, you spent some time doing a code review of multiple solutions to the same problem. In addition to simply reading unfamiliar code to make sense of it, when we use a new bit of code, if it's reasonably well written there are ways to explore how it works from inside our Jupyter notebooks or within an IPython prompt as well.\n",
    "\n",
    "Thus far you've been a bit of time trying to write your own solution to the superbug problem in an effort to recreate the anti-bacterial resistance experiment. Maybe you got everything working the way you wanted, or perhaps you've still ironing out a few bugs. **Now we're going to switch gears a bit and look at one possible complete solution to the problem**.\n",
    "\n",
    "**&#9989; Do This:** To start, you're going to import a script that contains this solution. First, you need to download the script, `superbugs.py`, which you can get here:\n",
    "\n",
    "`https://raw.githubusercontent.com/msu-cmse-courses/cmse202-supplemental-data/main/code_samples/superbugs.py`\n",
    "\n",
    "**Run the following cell to import the script once you download it.**"
   ]
  },
  {
   "cell_type": "code",
   "execution_count": null,
   "metadata": {
    "pycharm": {
     "name": "#%%\n"
    }
   },
   "outputs": [],
   "source": [
    "import superbugs "
   ]
  },
  {
   "cell_type": "markdown",
   "metadata": {
    "pycharm": {
     "name": "#%% md\n"
    }
   },
   "source": [
    "&#9989; **Do This:** Now, explore the above software, but **don't just look at the code right now**. Use standard exploration commands (e.g. use `help()`, `dir()`, `type`, or `?`) in your notebook to see if you can figure out what \"`superbugs`\" does/can do. "
   ]
  },
  {
   "cell_type": "code",
   "execution_count": null,
   "metadata": {
    "pycharm": {
     "name": "#%%\n"
    }
   },
   "outputs": [],
   "source": [
    "# put your exploration code here.\n",
    "superbugs"
   ]
  },
  {
   "cell_type": "markdown",
   "metadata": {
    "pycharm": {
     "name": "#%% md\n"
    }
   },
   "source": [
    "&#9989; **Do This:** Using the superbugs code, initialize the experiment and display the first time step of the board (t=0). Then, try to take a timestep and visualize the result. Again, **see if you can do this _without_ looking at the source code**."
   ]
  },
  {
   "cell_type": "code",
   "execution_count": null,
   "metadata": {
    "pycharm": {
     "name": "#%%\n"
    }
   },
   "outputs": [],
   "source": [
    "# put your initialization and visualization code here\n"
   ]
  },
  {
   "cell_type": "code",
   "execution_count": null,
   "metadata": {
    "pycharm": {
     "name": "#%%\n"
    }
   },
   "outputs": [],
   "source": [
    "# put your code for taking a step and visualizing the code here\n"
   ]
  },
  {
   "cell_type": "markdown",
   "metadata": {
    "pycharm": {
     "name": "#%% md\n"
    }
   },
   "source": [
    "---\n",
    "<a id=\"code-review\"></a>\n",
    "## Part 4. Reviewing the provided code\n",
    "\n",
    "OK, now that you've managed to learn a bit about the the code to the point where you can initialize the simulation, you're going to take a look at the code and see how it compares to what you came up with.\n",
    "\n",
    "&#9989; **Do This:** Open `superbugs.py` in a text editor and review the code. How does it work, what classes are available? What are their associated methods and attributes? **Compare and constrast the code with the code that you wrote** (even if you didn't get all bits of your code working). **What parts are similar? What parts are different? What advantages/disadvantages do you see in your approach and this approach?** Discuss this with your group and write down some notes from your discussion.\n",
    "\n",
    "**If there are parts of the code that you don't understand, talk with your group or ask an instructor for help!**"
   ]
  },
  {
   "cell_type": "markdown",
   "metadata": {
    "pycharm": {
     "name": "#%% md\n"
    }
   },
   "source": [
    "<font size=+3>&#9998;</font> Do This -  Erase this and record notes from your discussion here."
   ]
  },
  {
   "cell_type": "markdown",
   "metadata": {
    "pycharm": {
     "name": "#%% md\n"
    }
   },
   "source": [
    "## &#128721; STOP\n",
    "\n",
    "Check-in with the rest of the group and with the instructor."
   ]
  },
  {
   "cell_type": "markdown",
   "metadata": {
    "pycharm": {
     "name": "#%% md\n"
    }
   },
   "source": [
    "----\n",
    "<a id=\"simulation\"></a>\n",
    "## Part 5. Running the Simulation\n",
    "\n",
    "Now that you understand a bit about how the code works, you're going to try to run a full simulation for a set number of timesteps.\n",
    "\n",
    "&#9989; **Do This:** Using the petri_dish variable you initialized previously, write an loop that runs the ```timestep``` function followed by the ```draw``` function 10 times.  Make sure to animate the figure (you might need to dig up a previous example to get the animation working)."
   ]
  },
  {
   "cell_type": "code",
   "execution_count": null,
   "metadata": {
    "pycharm": {
     "name": "#%%\n"
    }
   },
   "outputs": [],
   "source": [
    "# Put your code here\n"
   ]
  },
  {
   "cell_type": "markdown",
   "metadata": {
    "pycharm": {
     "name": "#%% md\n"
    }
   },
   "source": [
    "&#9989; **Do This:** You might have noticed that the simulation gets slower as it runs.  **Comment out the plotting and animation code and rerun the simulation with 100 iterations.** Only draw the simulation once it is complete."
   ]
  },
  {
   "cell_type": "markdown",
   "metadata": {
    "pycharm": {
     "name": "#%% md\n"
    }
   },
   "source": [
    "&#9989; **Question 3**: Do you notice a change in the simulation run time when you comment out the plotting and animation code? How can you tell?"
   ]
  },
  {
   "cell_type": "markdown",
   "metadata": {
    "pycharm": {
     "name": "#%% md\n"
    }
   },
   "source": [
    "<font size=+3>&#9998;</font> Do This - Erase the contents of this cell and replace it with your answer to the above question!  (double-click on this text to edit this cell, and hit shift+enter to save the text)"
   ]
  },
  {
   "cell_type": "markdown",
   "metadata": {
    "pycharm": {
     "name": "#%% md\n"
    }
   },
   "source": [
    "&#9989; **Question 4**: What if you wanted to know exactly how long it took to run the simulation? You might have used the `time` module in your animation code or in previous code you've worked with, but we can also use it to time how long certain pieces of code take to run. We can record an initial time with something like:\n",
    "\n",
    "`start = time.time()`\n",
    "\n",
    "And then record the time the code finishes with:\n",
    "\n",
    "`end = time.time()`\n",
    "\n",
    "Try adding this to your code above to time exactly how long the simulation took. Add a line to **print the total run time at the end**. Try comparing the total run time to the simulation that includes the plotting and animation components.\n",
    "\n",
    "**What is the difference in the timing between the versions with (just 10 steps) and without (100 steps) the plotting?**"
   ]
  },
  {
   "cell_type": "markdown",
   "metadata": {
    "pycharm": {
     "name": "#%% md\n"
    }
   },
   "source": [
    "<font size=+3>&#9998;</font> Do This - Erase the contents of this cell and replace it with your answer to the above question!  (double-click on this text to edit this cell, and hit shift+enter to save the text)"
   ]
  },
  {
   "cell_type": "markdown",
   "metadata": {
    "pycharm": {
     "name": "#%% md\n"
    }
   },
   "source": [
    "&#9989; **Question 5**: What if you wanted to know how long each step of the simulation took (i.e. each iteration of the loop)? How would you track this information in your code? **If you have time at the end of class, come back to this and try implementing some code that tracks the time that each step took and prints or visualizes the results.**"
   ]
  },
  {
   "cell_type": "markdown",
   "metadata": {
    "pycharm": {
     "name": "#%% md\n"
    }
   },
   "source": [
    "<font size=+3>&#9998;</font> Do This - Erase the contents of this cell and replace it with your answer to the above question!  (double-click on this text to edit this cell, and hit shift+enter to save the text)"
   ]
  },
  {
   "cell_type": "markdown",
   "metadata": {
    "pycharm": {
     "name": "#%% md\n"
    }
   },
   "source": [
    "---\n",
    "<a id=\"testing\"></a>\n",
    "## Part 6. Testing Scientific Questions\n",
    "\n",
    "For the remainder of the class, we are going to use this code to ask some scientific questions."
   ]
  },
  {
   "cell_type": "markdown",
   "metadata": {
    "pycharm": {
     "name": "#%% md\n"
    }
   },
   "source": [
    "&#9989; **Do This:** Discuss as a group/class the types of scientific question can you could ask (and potentially answer) using this type of simulation.  "
   ]
  },
  {
   "cell_type": "markdown",
   "metadata": {
    "pycharm": {
     "name": "#%% md\n"
    }
   },
   "source": [
    "<font size=+3>&#9998;</font> Do This - Erase the contents of this cell and replace it with your answer to the above question!  (double-click on this text to edit this cell, and hit shift+enter to save the text)"
   ]
  },
  {
   "cell_type": "markdown",
   "metadata": {
    "pycharm": {
     "name": "#%% md\n"
    }
   },
   "source": [
    "&#9989; **Question 6:** Given the above questions, what types of measurements or modifications might we need to add to the superbug code? "
   ]
  },
  {
   "cell_type": "markdown",
   "metadata": {
    "pycharm": {
     "name": "#%% md\n"
    }
   },
   "source": [
    "<font size=+3>&#9998;</font> Do This - Erase the contents of this cell and replace it with your answer to the above question!  (double-click on this text to edit this cell, and hit shift+enter to save the text)"
   ]
  },
  {
   "cell_type": "markdown",
   "metadata": {
    "pycharm": {
     "name": "#%% md\n"
    }
   },
   "source": [
    "### Visualizing the progress of the superbugs\n",
    "\n",
    "If we wanted to use this simulation to answer one of your scientific questions, we might want to visualize the progress of the superbugs as a function of time as they march across the petri dish.\n",
    "\n",
    "&#9989; **Do This:** Write some code to show, in one graph, the progress of the simulation.  For example: you could plot the number of iterations on the x axis and the progress the bugs have made toward the center of the simulation on the y axis.  "
   ]
  },
  {
   "cell_type": "code",
   "execution_count": null,
   "metadata": {
    "pycharm": {
     "name": "#%%\n"
    }
   },
   "outputs": [],
   "source": [
    "#Put your code here.\n"
   ]
  },
  {
   "cell_type": "markdown",
   "metadata": {
    "pycharm": {
     "name": "#%% md\n"
    }
   },
   "source": [
    "&#9989; **Do This:** Do this, modify or use the simulation in some way that allows you to test a scientific question of the simulation.  "
   ]
  },
  {
   "cell_type": "code",
   "execution_count": null,
   "metadata": {
    "pycharm": {
     "name": "#%%\n"
    }
   },
   "outputs": [],
   "source": [
    "# put your scientific experiment code here.\n"
   ]
  },
  {
   "cell_type": "markdown",
   "metadata": {
    "pycharm": {
     "name": "#%% md\n"
    }
   },
   "source": [
    "&#9989; **Question 7**: What scientific question does your new usage or modification demonstrate and what can you conclude from the simulation?"
   ]
  },
  {
   "cell_type": "markdown",
   "metadata": {
    "pycharm": {
     "name": "#%% md\n"
    }
   },
   "source": [
    "<font size=+3>&#9998;</font> Do This - Erase the contents of this cell and replace it with your answer to the above question!  (double-click on this text to edit this cell, and hit shift+enter to save the text)"
   ]
  },
  {
   "cell_type": "markdown",
   "metadata": {
    "pycharm": {
     "name": "#%% md\n"
    }
   },
   "source": [
    "-----\n",
    "### Congratulations, we're done!\n",
    "\n",
    "Now, you just need to submit this assignment by uploading it to the course <a href=\"https://d2l.msu.edu/\">Desire2Learn</a> web page for today's submission folder (Don't forget to add your names in the first cell).\n"
   ]
  },
  {
   "cell_type": "markdown",
   "metadata": {
    "pycharm": {
     "name": "#%% md\n"
    }
   },
   "source": [
    "&#169; Copyright 2024, Department of Computational Mathematics, Science and Engineering at Michigan State University\n",
    "\n",
    "<!-- 8/29/2024 -->"
   ]
  },
  {
   "cell_type": "markdown",
   "metadata": {},
   "source": []
  }
 ],
 "metadata": {
  "kernelspec": {
   "display_name": "Python 3.11 (default)",
   "language": "python",
   "name": "python3"
  },
  "language_info": {
   "codemirror_mode": {
    "name": "ipython",
    "version": 3
   },
   "file_extension": ".py",
   "mimetype": "text/x-python",
   "name": "python",
   "nbconvert_exporter": "python",
   "pygments_lexer": "ipython3",
   "version": "3.11.9"
  },
  "widgets": {
   "application/vnd.jupyter.widget-state+json": {
    "state": {},
    "version_major": 2,
    "version_minor": 0
   }
  }
 },
 "nbformat": 4,
 "nbformat_minor": 4
}
