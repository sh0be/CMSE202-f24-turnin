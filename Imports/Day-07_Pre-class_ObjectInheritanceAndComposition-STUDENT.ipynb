{
 "cells": [
  {
   "cell_type": "markdown",
   "metadata": {},
   "source": [
    "# Pre-class Assignment: object inheritance and composition\n",
    "# Day 7\n",
    "# CMSE 202\n",
    "\n",
    "<img src=\"https://files.realpython.com/media/Inheritance-vs-Composition-in-Python_Watermarked_1.aec726368a97.jpg\" width=500px>\n",
    "\n",
    "(image from `realpython.com`)"
   ]
  },
  {
   "cell_type": "markdown",
   "metadata": {},
   "source": [
    "### <p style=\"text-align: right;\"> &#9989; Put your name here</p>"
   ]
  },
  {
   "cell_type": "markdown",
   "metadata": {},
   "source": [
    "### Goals for Today's Pre-Class Assignment\n",
    "\n",
    "By the end of this assignment, you should be able to:\n",
    "* Understand the concept of object inheritance and composition\n",
    "* Practice using inheritance and composition using custom classes\n",
    "\n",
    "### Assignment instructions\n",
    "\n",
    "Watch the video (you will watch video in twice: first time for inheritance (from beginning till 8:30 minutes) and second time for composition - the from 8:30 till the end), read all included and linked content, and complete any assigned programming problems.  Please get started early, and come to office hours if you have any questions and make use of Slack!\n",
    "\n",
    "**This assignment is due by 11:59 p.m. the day before class,** and should be uploaded into the appropriate \"Pre-class assignments\" submission folder. Submission instructions can be found at the end of the notebook.\n",
    "\n",
    "### Download an additional file\n",
    "\n",
    "For this assignment, you'll need the `Animal.py` file you worked with previously. If you don't already have it handy, you may need to re-download the file and save it in the same folder as this Jupyter notebook. The file contains definition of the class you will use in the assignment. You can find the file here:\n",
    "\n",
    "`https://raw.githubusercontent.com/msu-cmse-courses/cmse202-supplemental-data/main/code_samples/Animal.py`"
   ]
  },
  {
   "cell_type": "markdown",
   "metadata": {},
   "source": [
    "---\n",
    "## 1. Object inheritance\n",
    "\n",
    "Objects present a powerful programing paradigm (called Object Oriented Programming - OOP) by combining the attributes and methods for easy access and use. As mentioned before, objects are everywhere in Python. \n",
    "\n",
    "Object **inheritance** is a programming technique that allow us to combine the objects in a way such that one object **inherits** properties from another object. This enables us to create a hierarchy of objects. But no worries, we will practice that later in the assignment!\n",
    "\n",
    "&#9989; **Do this:** To learn more about the idea behind using **inheritance** with Python objects, watch the video below (watch only first **8:30 minutes**) and **answer the questions** below the video."
   ]
  },
  {
   "cell_type": "code",
   "execution_count": 1,
   "metadata": {},
   "outputs": [
    {
     "data": {
      "image/jpeg": "[encoded data removed]",
      "text/html": [
       "\n",
       "        <iframe\n",
       "            width=\"800\"\n",
       "            height=\"450\"\n",
       "            src=\"https://www.youtube.com/embed/RiRrcCUyn4M?end=510\"\n",
       "            frameborder=\"0\"\n",
       "            allowfullscreen\n",
       "            \n",
       "        ></iframe>\n",
       "        "
      ],
      "text/plain": [
       "<IPython.lib.display.YouTubeVideo at 0x7f1c8cb0d0d0>"
      ]
     },
     "execution_count": 1,
     "metadata": {},
     "output_type": "execute_result"
    }
   ],
   "source": [
    "# Don't forget to watch the video in full-screen mode!\n",
    "from IPython.display import YouTubeVideo  \n",
    "YouTubeVideo(\"RiRrcCUyn4M\",width=800,height=450,end=510)  # objects "
   ]
  },
  {
   "cell_type": "markdown",
   "metadata": {},
   "source": [
    "### Quick questions\n",
    "After watching the video above, answer the following two questions to overview the most important facts about objects."
   ]
  },
  {
   "cell_type": "markdown",
   "metadata": {},
   "source": [
    "&#9989; **Question 1**: What is the relationship between the **Dog** and **Animal** objects in the video?"
   ]
  },
  {
   "cell_type": "markdown",
   "metadata": {},
   "source": [
    "It allows inhertiance relationships "
   ]
  },
  {
   "cell_type": "markdown",
   "metadata": {},
   "source": [
    "&#9989; **Question 2**: In your own words, explain why would we might use object inheritance? In what ways might it make programming efforts easier?"
   ]
  },
  {
   "cell_type": "markdown",
   "metadata": {},
   "source": [
    "Because some items are more releated then others but may have different subclasses depending on how the data is presented "
   ]
  },
  {
   "cell_type": "markdown",
   "metadata": {},
   "source": [
    "---\n",
    "## 2. Using inheritance\n",
    "\n",
    "The main information we have to remember about inheritance is that objects have an \"**is a(n)**\" relationship: the `Lion` object **is an** `Animal` object, with a few attributes and methods tailored for a lion. When defining new object for lions, all `Animal`-specific attributes for lions are pre-defined in one place and there is no need to specify them explicitly when we want to use the `Lion` object.\n",
    "\n",
    "### 2.1 Using inheritance to build our `Animal` kingdom\n",
    "\n",
    "Let's now use the knowledge of the inheritance to simplify the creation of our Zoo. In the previous in-class assignment, we created the Zoo by:\n",
    " - creating an 'Animal' object for all animals in our Zoo\n",
    " - defining properties for every single animal object that we put in our Zoo\n",
    " \n",
    "That was tedious task involving a lot of typing, as we had to define the requested area and the number of zookeepers for every animal individually. With the use of inheritance, that will be significantly easier and will require less typing, which usually means less possibilities for making mistakes. We will create an object (class) for each animal based on the already created object `Animal` - this way each animal will **inherit** properties from pre-construct `Animal` object. \n",
    "\n",
    "To create a Zoo using multiple types of `Animal` objects, we would need to create the following classes:\n",
    " 1. create a class for lions: `Lion`\n",
    " 2. create a class for zebras: `Zebra`\n",
    " 3. create a class for penguins: `Penguin`\n",
    "\n",
    "\n",
    "**Note:** Before continuing, make sure you can access or have re-downloaded the \"`Animal.py`\" file and saved it in the same folder as this Jupyter notebook. If you don't have the file next to the notebook, download it now. The file is required for the rest of the assignment.\n",
    "\n",
    "&#9989; **Do this:** Run the following cell to make sure the the \"`Animal`\" class can be imported from the `Animal.py` file."
   ]
  },
  {
   "cell_type": "code",
   "execution_count": 2,
   "metadata": {},
   "outputs": [],
   "source": [
    "# The magic command below tells Jupyter Notebook to automatically load classes and methods from external files \n",
    "# in case they have changed from last load time;\n",
    "# This is needed when you change the Animal.py file\n",
    "%reload_ext autoreload\n",
    "%autoreload 2\n",
    "\n",
    "# import animal object that will be used to create other objects\n",
    "# note how the Animal class is imported!\n",
    "from Animal import Animal"
   ]
  },
  {
   "cell_type": "markdown",
   "metadata": {},
   "source": [
    "### 2.2 Creating object for lions"
   ]
  },
  {
   "cell_type": "markdown",
   "metadata": {},
   "source": [
    "According to the \"plan\" above, we have to create objects for each animal we want to have in the Zoo. \n",
    "\n",
    "&#9989; **Do this:** Check the code bellow, read carefully all comments and fill-in the missing pieces - enter 2 values. Then use the cell below to test if new object is working correctly."
   ]
  },
  {
   "cell_type": "code",
   "execution_count": 4,
   "metadata": {},
   "outputs": [],
   "source": [
    "# here is the class for lions; read all comments and add missing \n",
    "class Lion(Animal):\n",
    "    \"\"\"\n",
    "        This is a Lion class, used to store information about lions.\n",
    "    \"\"\"\n",
    "    def __init__(self, name):\n",
    "        \n",
    "        \n",
    "        # this class is only for lions, so we can define animal 'kind' as lion\n",
    "        kind = \"lion\"\n",
    "        \n",
    "        # this calls initialization of Animal class and sets the animal to given 'name'      \n",
    "        super().__init__(kind,name)     \n",
    "        \n",
    "        #--- in lines below we define attribute values for lions--#\n",
    "        \n",
    "        # default required area: \n",
    "        # ENTER VALUE (arbitrary one or one you used in the previous \n",
    "        # in-class assignment)\n",
    "        self.required_area = 600\n",
    "        \n",
    "        # set default number of Zoo keepers needed for lions: \n",
    "        # ENTER VALUE (arbitrary one or one you used in the previous \n",
    "        # in-class assignment)\n",
    "        self.required_staff = 2\n",
    "        \n",
    "    \n"
   ]
  },
  {
   "cell_type": "code",
   "execution_count": 5,
   "metadata": {},
   "outputs": [
    {
     "name": "stdout",
     "output_type": "stream",
     "text": [
      "Alex is a lion, arrived to Zoo on 2019-01-01 and requires 600 m^2 of space and 2 keepers to be happy.\n"
     ]
    }
   ],
   "source": [
    "# use this cell to test the 'Lion' class\n",
    "alex = Lion(\"Alex\")\n",
    "alex.set_arrive_to_zoo(\"2019-01-01\")\n",
    "\n",
    "# printing animal's names\n",
    "print(\"{0} is a {1}, arrived to Zoo on {4} and requires {2} m^2 of space and {3} keepers to be happy.\".format(\n",
    "    alex.get_name(), alex.get_kind(), alex.get_required_area(), alex.get_number_keepers(), alex.get_arrive_to_zoo()))"
   ]
  },
  {
   "cell_type": "markdown",
   "metadata": {},
   "source": [
    "**Note**: If running the cell above does not return an error, you are good to move forward."
   ]
  },
  {
   "cell_type": "markdown",
   "metadata": {},
   "source": [
    "&#9989; **Question 3**: The `Lion` class does not have the methods `set_arrive_to_zoo()` and `get_required_area()` defined within it and yet, the code above works when you print the information about `alex`, how can this be? **Hint:** something to do with inheritance!"
   ]
  },
  {
   "cell_type": "markdown",
   "metadata": {},
   "source": [
    "It was classes when I typed the inhertiance values under the lion class"
   ]
  },
  {
   "cell_type": "markdown",
   "metadata": {},
   "source": [
    "### 2.3 Creating objects for zebras and penguins"
   ]
  },
  {
   "cell_type": "markdown",
   "metadata": {},
   "source": [
    "The next steps in our plan are creating objects for zebras and penguins.\n",
    "\n",
    "&#9989; **Do this:** Using the code above (for creating the object for a lion), create objects for zebras and penguins. As before, run the cell below to test of your objects are correct."
   ]
  },
  {
   "cell_type": "code",
   "execution_count": 19,
   "metadata": {},
   "outputs": [],
   "source": [
    "# Here is a starting point for the Zebra class;\n",
    "# use the Lion class as a guide to complete this class\n",
    "class Zebra(Animal):\n",
    "    \"\"\"\n",
    "        This is a Zebra class, used to store information about zebras.\n",
    "    \"\"\"\n",
    "    def __init__(self, name): \n",
    "        \"\"\"\n",
    "        Initialize Zebra class. All we need now is the animal nickname.\n",
    "        \"\"\"\n",
    "        kind = \"Zebra\"\n",
    "\n",
    "        super().__init__(kind,name)\n",
    "\n",
    "        \n",
    "class Penguin(Animal):\n",
    "   \n",
    "    def __init__(self, name):\n",
    "\n",
    "        kind = \"Penguin\"\n",
    "\n",
    "        super().__init__(kind,name)"
   ]
  },
  {
   "cell_type": "markdown",
   "metadata": {},
   "source": [
    "\n",
    "### 2.4 Test your code!\n",
    "\n",
    "&#9989; **Do this:** Now use the code in the cell below to test your new classes. The code creates two objects with animal names from Madagascar movie and prints their names with some additional information. The output should be something like this (depending on what you used for your animal attributes):\n",
    "```\n",
    "Marty is a zebra and requires 100 m^2 of space and 1 keepers to be happy.\n",
    "Skipper is a penguin and requires 300 m^2 of space and 0.5 keepers to be happy.\n",
    "```\n",
    "If that is the case, you are good to move on!"
   ]
  },
  {
   "cell_type": "code",
   "execution_count": 20,
   "metadata": {},
   "outputs": [
    {
     "name": "stdout",
     "output_type": "stream",
     "text": [
      "Marty is a Zebra and requires 100 m^2 of space and 1 keepers to be happy.\n",
      "Skipper is a Penguin and requires 100 m^2 of space and 1 keepers to be happy.\n"
     ]
    }
   ],
   "source": [
    "# use this cell to test the 'Lion' class\n",
    "marty = Zebra(\"Marty\")\n",
    "skipper = Penguin(\"Skipper\")\n",
    "# printing animal's names\n",
    "print(\"{0} is a {1} and requires {2} m^2 of space and {3} keepers to be happy.\".format(marty.get_name(), marty.get_kind(), marty.get_required_area(), marty.get_number_keepers()))\n",
    "print(\"{0} is a {1} and requires {2} m^2 of space and {3} keepers to be happy.\".format(skipper.get_name(), skipper.get_kind(), skipper.get_required_area(), skipper.get_number_keepers()))\n"
   ]
  },
  {
   "cell_type": "markdown",
   "metadata": {},
   "source": [
    "---\n",
    "## Part 3. Object composition\n"
   ]
  },
  {
   "cell_type": "markdown",
   "metadata": {},
   "source": [
    "The main idea behind object composition is to combine properties (attributes and methods) from different objects into single one. You're going to watch the second part of the previous video to learn a bit about the idea behind object composition through the provided example.\n",
    "\n",
    "**Composition** is a programming technique that allow us to combine the objects in a way that one object is **built** from other objects. Objects from which new object is built, can be completely non-related and are usually combined because each object brings a piece of puzzle to the newly combined object.\n",
    "\n",
    "&#9989; **Do this:** Watch the video below (from **8:30 min** on) how composition can be used in Python. Answer the questions below the video."
   ]
  },
  {
   "cell_type": "code",
   "execution_count": 21,
   "metadata": {},
   "outputs": [
    {
     "data": {
      "image/jpeg": "[encoded data removed]",
      "text/html": [
       "\n",
       "        <iframe\n",
       "            width=\"800\"\n",
       "            height=\"450\"\n",
       "            src=\"https://www.youtube.com/embed/RiRrcCUyn4M?start=515\"\n",
       "            frameborder=\"0\"\n",
       "            allowfullscreen\n",
       "            \n",
       "        ></iframe>\n",
       "        "
      ],
      "text/plain": [
       "<IPython.lib.display.YouTubeVideo at 0x7f1c7355ed90>"
      ]
     },
     "execution_count": 21,
     "metadata": {},
     "output_type": "execute_result"
    }
   ],
   "source": [
    "# Don't forget to watch the video in full-screen mode!\n",
    "from IPython.display import YouTubeVideo  \n",
    "YouTubeVideo(\"RiRrcCUyn4M\",width=800,height=450,start=515)  # objects"
   ]
  },
  {
   "cell_type": "markdown",
   "metadata": {},
   "source": [
    "### Quick question\n",
    "After watching the video above, answer the following question to review the motivation behind object composition."
   ]
  },
  {
   "cell_type": "markdown",
   "metadata": {},
   "source": [
    "&#9989; **Question 4**: When might you use object composition? In what ways might it make our programming efforts easier?"
   ]
  },
  {
   "cell_type": "markdown",
   "metadata": {},
   "source": [
    "To give more charactertics to an object. it requires less time and code"
   ]
  },
  {
   "cell_type": "markdown",
   "metadata": {},
   "source": [
    "### 3.1 Few important things before combining objects\n",
    "\n",
    "Object **composition** is **combining** different objects into new one, where each object brings part of properties to the newly created class. Objects **do not** inherit or share anything and the only common thing could be the fact that they are combined into one object. Another way to think about **composition** is that it represents a \"**has a**\" relationship. That is, an object/class **has a** component that might be another class/object."
   ]
  },
  {
   "cell_type": "markdown",
   "metadata": {},
   "source": [
    "### 3.2 Defining a `Zoo` object\n",
    "\n",
    "We can use object **composition** to create a new object, `Zoo`, which will be a place where we can store `Animal` objects. In the previous in-class assignment, we were creating our \"Zoo\" by storing animals in a list. We can extend that idea by creating a class `Zoo` that will hold all animals in the Zoo and also offer methods to manipulate attributes of `Zoo` class.\n",
    "\n",
    "First we should define what properties (attributes and methods) we have to implement in our `Zoo` class:\n",
    " - our `Zoo` class should have at least the following attributes:\n",
    "   - list of animals in the Zoo, these should be `Animal` objects\n",
    "   - list of zookeepers (we will create the class later)\n",
    " - and at least the following methods:\n",
    "   - add new animal\n",
    "   - add new zookeeper (we will create the method later)\n",
    "   - get total Zoo area\n",
    "   - get total number of Zookeepers\n",
    "\n",
    "You might remember from the previous in-class assignment that we created most of the required attributes and methods during that class. All we have to do now is to combine them into a single class.\n",
    "\n",
    "### 3.3 Adding missing code in methods `get_animal_names()` and `total_area()`\n",
    "\n",
    "Most of the before mentioned methods are already in the `Zoo` class. Two methods, `get_animal_names()` and `total_area()`, are in the class but have no content - most of the method's body is missing.\n",
    "\n",
    "&#9989; **Do this:** Your task is to add the missing code into methods `get_animal_names()` and `total_area()` (last two methods in the cell) so they will perform their designed functionality. Last part of the previous in-class assignment was similar to this task - printing animal names and computing the Zoo's total area. Use ideas/steps from that assignment, but pay attention how animal objects are stored. \n",
    "\n",
    "**Hint:** here we use dictionary to store animal objects, before we were using lists. Adding and retrieving items is slightly different.\n"
   ]
  },
  {
   "cell_type": "code",
   "execution_count": 24,
   "metadata": {},
   "outputs": [],
   "source": [
    "class Zoo:\n",
    "    \"\"\"\n",
    "        Class for Zoo.\n",
    "    \"\"\"\n",
    "    def __init__(self, name):\n",
    "        \"\"\" Initialize the Zoo object\n",
    "        Input:\n",
    "        name : a name for the Zoo\n",
    "        \"\"\"\n",
    "        # name of the Zoo\n",
    "        self.name = name\n",
    "        # we are using dictionaries for animals and personnel\n",
    "        self.animals = {}\n",
    "        self.zookeepers = {}\n",
    "\n",
    "    def add_animal(self, animal):\n",
    "        \"\"\" Adds an animal to the zoo. \"\"\"\n",
    "        # we use animal's name as a key in the dictionary\n",
    "        name = animal.get_name()\n",
    "        self.animals[name] = animal\n",
    "        return len(self.animals)\n",
    "\n",
    "    def add(self, animal):\n",
    "        \"\"\" Shorter name of function to add animals to the Zoo. \"\"\"\n",
    "        return self.add_animal(animal)\n",
    "    \n",
    "    def get_animals(self):\n",
    "        \"\"\" Return all animals in the zoo.\"\"\"\n",
    "        return self.animals\n",
    "\n",
    "    def number_animals(self):\n",
    "        \"\"\" Return number of animals in the zoo.\"\"\"\n",
    "        return len(self.animals)\n",
    "\n",
    "    def remove(self, name):\n",
    "        \"\"\"\n",
    "        Remove animal from the Zoo for given name.\n",
    "        If the name does not exist, error is printed.\n",
    "        \"\"\"\n",
    "        if name in self.animals:\n",
    "            # yes, animal with given name is in the Zoo\n",
    "            del self.animals[name]\n",
    "        else:\n",
    "            print(\"Animal with given name is not in\", self.name, \"Zoo.\")\n",
    "\n",
    "    \n",
    "    def number_zookeepers(self):\n",
    "        \"\"\" Return number of zookeepers in the zoo.\"\"\"\n",
    "        return len(self.zookeepers)\n",
    "\n",
    "    def get_animal_names(self, sort=False):\n",
    "        \"\"\"\n",
    "        Return animal names in the Zoo.\n",
    "        Return sorted names if parameters sorted==True\n",
    "        \"\"\"\n",
    "        names = list(self.animals.keys())  # Collecting all the names of animals\n",
    "        \n",
    "        if sort:\n",
    "            # Sort the names if sort=True\n",
    "            names = sorted(names)\n",
    "    \n",
    "        return names\n",
    "        \n",
    "    def total_area(self):\n",
    "        \"\"\"\n",
    "        Return the total Zoo area to host all animals defined in the object.\n",
    "        \"\"\"\n",
    "        area = 0\n",
    "        \n",
    "        # Iterate over all animals in the Zoo and sum up their area requirements\n",
    "        for animal in self.animals.values():\n",
    "            area += animal.get_area()  # Assuming each animal has a get_area() method\n",
    "        \n",
    "        return area\n"
   ]
  },
  {
   "cell_type": "markdown",
   "metadata": {},
   "source": [
    "\n",
    "### 3.4 Test your code!\n",
    "\n",
    "&#9989; **Do this:** Now use the code in the cell below to test your class. The code creates few objects with animal names [from Madagascar movies](https://en.wikipedia.org/wiki/Madagascar_(franchise)), adds them into the 'NYC ZOO' and prints out their names and the total Zoo area."
   ]
  },
  {
   "cell_type": "code",
   "execution_count": 25,
   "metadata": {},
   "outputs": [
    {
     "name": "stdout",
     "output_type": "stream",
     "text": [
      "\n",
      "Alex and Skipper? ['Alex', 'Skipper']\n",
      "\n",
      "Alex, Skipper, Marty, and Kowalski? ['Alex', 'Skipper', 'Marty', 'Kowalski']\n",
      "\n",
      "All, but Alex? ['Skipper', 'Marty', 'Kowalski']\n",
      "\n",
      "Alex, Skipper, Marty, and Kowalski? ['Skipper', 'Marty', 'Kowalski', 'Alex']\n"
     ]
    },
    {
     "ename": "AttributeError",
     "evalue": "'Penguin' object has no attribute 'get_area'",
     "output_type": "error",
     "traceback": [
      "\u001b[0;31m---------------------------------------------------------------------------\u001b[0m",
      "\u001b[0;31mAttributeError\u001b[0m                            Traceback (most recent call last)",
      "Cell \u001b[0;32mIn[25], line 42\u001b[0m\n\u001b[1;32m     39\u001b[0m names \u001b[38;5;241m=\u001b[39m zoo\u001b[38;5;241m.\u001b[39mget_animal_names()\n\u001b[1;32m     40\u001b[0m \u001b[38;5;28mprint\u001b[39m(\u001b[38;5;124m\"\u001b[39m\u001b[38;5;130;01m\\n\u001b[39;00m\u001b[38;5;124mAlex, Skipper, Marty, and Kowalski?\u001b[39m\u001b[38;5;124m\"\u001b[39m, names)\n\u001b[0;32m---> 42\u001b[0m \u001b[38;5;28mprint\u001b[39m(\u001b[38;5;124m\"\u001b[39m\u001b[38;5;130;01m\\n\u001b[39;00m\u001b[38;5;124mTotal Zoo area is:\u001b[39m\u001b[38;5;124m\"\u001b[39m, \u001b[43mzoo\u001b[49m\u001b[38;5;241;43m.\u001b[39;49m\u001b[43mtotal_area\u001b[49m\u001b[43m(\u001b[49m\u001b[43m)\u001b[49m, \u001b[38;5;124m\"\u001b[39m\u001b[38;5;124mm^2.\u001b[39m\u001b[38;5;124m\"\u001b[39m)\n",
      "Cell \u001b[0;32mIn[24], line 72\u001b[0m, in \u001b[0;36mZoo.total_area\u001b[0;34m(self)\u001b[0m\n\u001b[1;32m     70\u001b[0m \u001b[38;5;66;03m# Iterate over all animals in the Zoo and sum up their area requirements\u001b[39;00m\n\u001b[1;32m     71\u001b[0m \u001b[38;5;28;01mfor\u001b[39;00m animal \u001b[38;5;129;01min\u001b[39;00m \u001b[38;5;28mself\u001b[39m\u001b[38;5;241m.\u001b[39manimals\u001b[38;5;241m.\u001b[39mvalues():\n\u001b[0;32m---> 72\u001b[0m     area \u001b[38;5;241m+\u001b[39m\u001b[38;5;241m=\u001b[39m \u001b[43manimal\u001b[49m\u001b[38;5;241;43m.\u001b[39;49m\u001b[43mget_area\u001b[49m()  \u001b[38;5;66;03m# Assuming each animal has a get_area() method\u001b[39;00m\n\u001b[1;32m     74\u001b[0m \u001b[38;5;28;01mreturn\u001b[39;00m area\n",
      "\u001b[0;31mAttributeError\u001b[0m: 'Penguin' object has no attribute 'get_area'"
     ]
    }
   ],
   "source": [
    "# create object for defining few characters from The Madagascar\n",
    "# the code may look long, but will produce only 5 lines of output. \n",
    "# You are encouraged to go through the code to get familiar with the usage of the Zoo class.\n",
    "# creating all classes\n",
    "alex = Lion('Alex')\n",
    "marty = Zebra('Marty')\n",
    "skipper = Penguin('Skipper')\n",
    "kowalski = Penguin('Kowalski')\n",
    "\n",
    "# create a Zoo and adding Alex and Skipper\n",
    "zoo = Zoo('NYC ZOO')\n",
    "zoo.add(alex)\n",
    "zoo.add_animal(skipper)\n",
    "\n",
    "# get animal names and print them\n",
    "names = zoo.get_animal_names(True)\n",
    "print(\"\\nAlex and Skipper?\", names)\n",
    "\n",
    "# add few more names\n",
    "zoo.add(marty)\n",
    "zoo.add_animal(kowalski)\n",
    "\n",
    "# get animal names and print them\n",
    "names = zoo.get_animal_names()\n",
    "print(\"\\nAlex, Skipper, Marty, and Kowalski?\", names)\n",
    "\n",
    "#\n",
    "# remove Alex\n",
    "zoo.remove('Alex')\n",
    "# get animal names and print them\n",
    "names = zoo.get_animal_names()\n",
    "print(\"\\nAll, but Alex?\", names)\n",
    "\n",
    "#\n",
    "# Add him back\n",
    "zoo.add(alex)\n",
    "\n",
    "# get animal names and print them\n",
    "names = zoo.get_animal_names()\n",
    "print(\"\\nAlex, Skipper, Marty, and Kowalski?\", names)\n",
    "\n",
    "print(\"\\nTotal Zoo area is:\", zoo.total_area(), \"m^2.\")\n"
   ]
  },
  {
   "cell_type": "markdown",
   "metadata": {},
   "source": [
    "\n",
    "### Does it work?\n",
    "\n",
    "If the output above looks like this (the total area depends on your numbers and will probably be different than 1300):\n",
    "```\n",
    "Alex and Skipper? ['Alex', 'Skipper']\n",
    "\n",
    "Alex, Skipper, Marty, and Kowalski? ['Alex', 'Skipper', 'Marty', 'Kowalski']\n",
    "\n",
    "All, but Alex? ['Skipper', 'Marty', 'Kowalski']\n",
    "\n",
    "Alex, Skipper, Marty, and Kowalski? ['Skipper', 'Marty', 'Kowalski', 'Alex']\n",
    "\n",
    "Total Zoo area is: 1300 m^2.\n",
    "```\n",
    "\n",
    "then you succeeded and you are almost done!"
   ]
  },
  {
   "cell_type": "markdown",
   "metadata": {},
   "source": [
    "---\n",
    "## 4. Additional reading (not mandatory)"
   ]
  },
  {
   "cell_type": "markdown",
   "metadata": {},
   "source": [
    "Additional reading in this pre-class assignment is might come across **very** technical and it **extends beyond** the scope of this class. However, if you are interested in learning more on the topics, read on:\n",
    "* [Python - class inheritance](https://docs.python.org/3/tutorial/classes.html#inheritance)\n",
    "* [Inheritance and composition: A Python OOP Guide](https://realpython.com/inheritance-composition-python/)\n",
    "\n",
    "**Important**: The web pages above include comprehensive information about classes and you are **NOT** expected to read (or even remember) everything presented! "
   ]
  },
  {
   "cell_type": "markdown",
   "metadata": {},
   "source": [
    "---\n",
    "## Follow-up Questions\n",
    "\n",
    "Copy and paste the following questions into the appropriate box in the assignment survey include below and answer them there. (Note: You'll have to fill out the assignment number and go to the \"NEXT\" section of the survey to paste in these questions.)\n",
    "\n",
    "1. Inheritance: what is the relationship of an object that inherits properties from another object? (Remember the relation of object **Dog** to object **Animal**)\n",
    "\n",
    "2. Composition: in your own words, explain the main difference between inheritance and composition.\n",
    "\n",
    "3. When might you use inheritance and when might you use composition?\n"
   ]
  },
  {
   "cell_type": "markdown",
   "metadata": {},
   "source": [
    "---\n",
    "## Assignment wrap-up\n",
    "\n",
    "Please fill out the form that appears when you run the code below.  **You must completely fill this out in order to receive credit for the assignment!**"
   ]
  },
  {
   "cell_type": "code",
   "execution_count": null,
   "metadata": {},
   "outputs": [],
   "source": [
    "from IPython.display import HTML\n",
    "HTML(\n",
    "\"\"\"\n",
    "<iframe \n",
    "\tsrc=\"https://cmse.msu.edu/cmse202-pc-survey\" \n",
    "\twidth=\"800\" \n",
    "\theight=\"800px\" \n",
    "\tframeborder=\"0\" \n",
    "\tmarginheight=\"0\" \n",
    "\tmarginwidth=\"0\">\n",
    "\tLoading...\n",
    "</iframe>\n",
    "\"\"\"\n",
    ")"
   ]
  },
  {
   "cell_type": "markdown",
   "metadata": {},
   "source": [
    "### Congratulations, you're done!\n",
    "\n",
    "Submit this assignment by uploading it to the course Desire2Learn web page.  Go to the \"Pre-class assignments\" folder, find the appropriate dropbox link, and upload it there.\n",
    "\n",
    "See you in class!"
   ]
  },
  {
   "cell_type": "markdown",
   "metadata": {},
   "source": [
    "&#169; Copyright 2024,  Department of Computational Mathematics, Science and Engineering at Michigan State University\n",
    "\n",
    "<!-- 8/29/2024 -->"
   ]
  },
  {
   "cell_type": "markdown",
   "metadata": {},
   "source": []
  }
 ],
 "metadata": {
  "kernelspec": {
   "display_name": "Python 3.11 (default)",
   "language": "python",
   "name": "python3"
  },
  "language_info": {
   "codemirror_mode": {
    "name": "ipython",
    "version": 3
   },
   "file_extension": ".py",
   "mimetype": "text/x-python",
   "name": "python",
   "nbconvert_exporter": "python",
   "pygments_lexer": "ipython3",
   "version": "3.11.9"
  },
  "toc": {
   "base_numbering": 1,
   "nav_menu": {},
   "number_sections": true,
   "sideBar": true,
   "skip_h1_title": false,
   "title_cell": "Table of Contents",
   "title_sidebar": "Contents",
   "toc_cell": true,
   "toc_position": {},
   "toc_section_display": true,
   "toc_window_display": false
  }
 },
 "nbformat": 4,
 "nbformat_minor": 4
}
