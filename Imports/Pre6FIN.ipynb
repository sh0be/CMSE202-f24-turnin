{
 "cells": [
  {
   "cell_type": "markdown",
   "metadata": {
    "editable": true,
    "slideshow": {
     "slide_type": ""
    },
    "tags": []
   },
   "source": [
    "# Pre-class Assignment: Introduction to Object Oriented Programming (OOP)\n",
    "# Day 6\n",
    "# CMSE 202\n",
    "<img src=\"https://files.realpython.com/media/Object-Oriented-Programming-OOP-in-Python-3_Watermarked.0d29780806d5.jpg\" width=500px>\n",
    "\n",
    "(image from `realpython.com`)"
   ]
  },
  {
   "cell_type": "markdown",
   "metadata": {},
   "source": [
    "### <p style=\"text-align: right;\"> &#9989; Ben Lascola"
   ]
  },
  {
   "cell_type": "markdown",
   "metadata": {},
   "source": [
    "### Goals for Today's Pre-Class Assignment\n",
    "By the end of this assignment, you should be able to:\n",
    "* Understand the concept of objects\n",
    "* Use predefined objects from imported libraries\n",
    "* Modify an existing class to define custom object\n",
    "\n",
    "### Assignment instructions\n",
    "\n",
    "Watch both videos (the first in Part 1 and the second in Part 3), read all included and linked content, and complete any assigned programming problems.  Please get started early, and come to office hours if you have any questions and make use of Slack!\n",
    "\n",
    "**This assignment is due by 11:59 p.m. the day before class,** and should be uploaded into the appropriate \"Pre-class assignments\" submission folder.  Submission instructions can be found at the end of the notebook."
   ]
  },
  {
   "cell_type": "markdown",
   "metadata": {},
   "source": [
    "---\n",
    "## 1. What are objects?\n",
    "\n",
    "Functions and decision (if/else) statements are very powerful tools for writing programs in Python. Combining them with libraries like `numpy`, `scipy` makes Python very powerful and easy to use.\n",
    "\n",
    "We've previously learned how functions can perform various tasks by grouping together commonly performed tasks to be called from different parts of the script (or notebook). But every function needs data to work on: a function for multiplication requires at least 2 numbers to multiply, the `len` function requires a string, a list, or an array to return its length, etc.\n",
    "\n",
    "If we **combine the data and functions** into one data structure, we get **objects**. The object, like in a real world, combine both the `data` (i.e. the _attributes_ of the object) and the methods (or functions) that can perform manipulations with the object's attributes.\n",
    "\n",
    "To make things even more interesting, everything in Python is an object: integer, string, list, and dictionary. Every object has data associated with (for the integer, this is the value, an integer number) and there is a list of functions we can perform on a given object. Examples of objects that you already encountered before are `numpy` arrays, lists, dictionaries, and Pandas DataFrames.\n",
    "\n",
    "&#9989; **Do this:** To learn more about the idea behind using objects and what is commonly referred to as \"Object Oriented Programming\" (OOP), watch the video below and **answer the questions** below the video."
   ]
  },
  {
   "cell_type": "code",
   "execution_count": 1,
   "metadata": {},
   "outputs": [
    {
     "data": {
      "image/jpeg": "[encoded data removed]",
      "text/html": [
       "\n",
       "        <iframe\n",
       "            width=\"800\"\n",
       "            height=\"450\"\n",
       "            src=\"https://www.youtube.com/embed/3dA4XE6l7YI\"\n",
       "            frameborder=\"0\"\n",
       "            allowfullscreen\n",
       "            \n",
       "        ></iframe>\n",
       "        "
      ],
      "text/plain": [
       "<IPython.lib.display.YouTubeVideo at 0x7fd5ae331390>"
      ]
     },
     "execution_count": 1,
     "metadata": {},
     "output_type": "execute_result"
    }
   ],
   "source": [
    "# Don't forget to watch the video in full-screen mode!\n",
    "from IPython.display import YouTubeVideo  \n",
    "YouTubeVideo(\"3dA4XE6l7YI\",width=800,height=450)  # objects "
   ]
  },
  {
   "cell_type": "markdown",
   "metadata": {},
   "source": [
    "### Quick questions\n",
    "After watching the video above, answer the following two questions to review the most important facts about objects."
   ]
  },
  {
   "cell_type": "markdown",
   "metadata": {},
   "source": [
    "&#9989; **Question 1**: Each object is made up of three (3) key components. What are these three components?"
   ]
  },
  {
   "cell_type": "markdown",
   "metadata": {},
   "source": [
    "Class name, attributes, and methods"
   ]
  },
  {
   "cell_type": "markdown",
   "metadata": {},
   "source": [
    "&#9989; **Question 2**: In your own words, explain why would we combine the attributes (data) and methods (functions) into objects? In what ways might that make the programming easier?"
   ]
  },
  {
   "cell_type": "markdown",
   "metadata": {},
   "source": [
    "Because say in a game there would have to be more depth to an NPC then just its name in a function "
   ]
  },
  {
   "cell_type": "markdown",
   "metadata": {},
   "source": [
    "---\n",
    "## 2. Using objects\n",
    "\n",
    "Objects are building blocks of Python - everything in Python is an object. Even basic variable types, such as integers, floats, strings, lists and dictionaries, are objects.\n",
    "\n",
    "How do we use objects, if they are already in Python? How do we \"call\" their methods? The method name needs to be specified after the object name and separated by a full stop (\"`.`\") from the object name. Everything else is the same as calling a function.\n",
    "\n",
    "### 2.1 Using built-in objects\n",
    "\n",
    "Objects are everywhere in Python and there is no way to avoid objects in Python. Even basic string manipulation can be done in Object-Oriented Programming (OOP) way. You have been using objects in Python without even knowing that. It's so easy!\n",
    "\n",
    "Below are examples of calling methods from built-in objects and you have been using many of them on daily basis in this class already. The `numpy` example also shows the similarity between using functions to get the shape of 2D array and then perform the same task using the built-in method (the OOP way).\n",
    "\n",
    "&#9989; **Review the following examples and make sure you understand everything that is happening**."
   ]
  },
  {
   "cell_type": "code",
   "execution_count": 1,
   "metadata": {},
   "outputs": [
    {
     "name": "stdout",
     "output_type": "stream",
     "text": [
      "Name: Hello world!\n",
      "Uppercase name: HELLO WORLD!\n"
     ]
    }
   ],
   "source": [
    "# example of converting the string into upper case\n",
    "# defined a variable - string\n",
    "name = \"Hello world!\"\n",
    "# converting the string into upper case string\n",
    "lcase_name = name.upper()\n",
    "# printing original and converted strings\n",
    "print(\"Name:\", name)\n",
    "print(\"Uppercase name:\", lcase_name)"
   ]
  },
  {
   "cell_type": "code",
   "execution_count": 2,
   "metadata": {},
   "outputs": [
    {
     "name": "stdout",
     "output_type": "stream",
     "text": [
      "Name: Hello world!\n",
      "New name: Hello class!\n"
     ]
    }
   ],
   "source": [
    "# replacing characters in string\n",
    "# again, defining a string\n",
    "name = \"Hello world!\"\n",
    "# replace work \"world\" with \"class\"\n",
    "new_name = name.replace(\"world\", \"class\")\n",
    "# printing original and changed string\n",
    "print(\"Name:\", name)\n",
    "print(\"New name:\", new_name)"
   ]
  },
  {
   "cell_type": "code",
   "execution_count": 3,
   "metadata": {},
   "outputs": [
    {
     "name": "stdout",
     "output_type": "stream",
     "text": [
      "[[ 0  1  2  3  4]\n",
      " [ 5  6  7  8  9]\n",
      " [10 11 12 13 14]\n",
      " [15 16 17 18 19]]\n",
      "len():\n",
      " Number of rows: 4 number of columns: 5\n",
      "numpy.shape():\n",
      " Number of rows: 4 number of columns: 5\n",
      "board.shape:\n",
      " Number of rows: 4 number of columns: 5\n"
     ]
    }
   ],
   "source": [
    "import numpy as np\n",
    "\n",
    "# define an 2D array\n",
    "board  = np.arange(20).reshape((4,5))\n",
    "print(board)\n",
    "\n",
    "# get dimensions of the board\n",
    "# using len function\n",
    "print(\"len():\\n Number of rows:\", len(board), \"number of columns:\", len(board[0]))\n",
    "# using numpy shape method\n",
    "print(\"numpy.shape():\\n Number of rows:\", np.shape(board)[0], \"number of columns:\", np.shape(board)[1])\n",
    "# using object attributes\n",
    "print(\"board.shape:\\n Number of rows:\", board.shape[0], \"number of columns:\", board.shape[1])"
   ]
  },
  {
   "cell_type": "markdown",
   "metadata": {},
   "source": [
    "To call methods defined in an object, you write the variable name (remember, everything in Python is an object), followed by dot (`.`) and the method name. You can also notice that the statement\n",
    "\n",
    "```np.shape(board)```\n",
    "\n",
    "is doing exactly the same: calling there method `shape` from object `np` (which is **numpy**) and then return the shape of given 2D array."
   ]
  },
  {
   "cell_type": "markdown",
   "metadata": {},
   "source": [
    "As mentioned before, every object has methods associated with it and Jupyter notebook can help you find which methods are available for a given object. To get available methods for given object, do the following:\n",
    " - write the variable (object name) name\n",
    " - write a dot (`.`) after the variable \n",
    " - press TAB to get the list of possible methods for a given object; the methods will be listed in a pop-up window next the cursor.\n",
    "\n",
    "To print **ALL** the available attributes and methods of a given object, you can use `dir` function. You may notice that names of some attributes and methods begin with an underscore (`_`) - these attributes and methods are intended for internal use inside the object rather than being user-facing attributes and methods (they are mostly called from other methods in the object).\n",
    "\n",
    "When you find the method that you think could be the right one, you are interested which parameters you need to defined to selected method. Jupyter notebook can help here too. To get parameters and usage of given method in the object, use question mark after the method name - the same way as for functions.\n",
    "\n",
    "&#9989;  For example, to get parameters for `shape` method from **`numpy`**, **write the following into cell and execute the cell** (press `SHIFT+ENTER`):\n",
    "\n",
    "```\n",
    "np.shape?\n",
    "```\n"
   ]
  },
  {
   "cell_type": "code",
   "execution_count": 6,
   "metadata": {
    "scrolled": true
   },
   "outputs": [
    {
     "data": {
      "text/plain": [
       "(4, 5)"
      ]
     },
     "execution_count": 6,
     "metadata": {},
     "output_type": "execute_result"
    }
   ],
   "source": [
    "# test out np.shape? here!\n",
    "np.shape(board)"
   ]
  },
  {
   "cell_type": "markdown",
   "metadata": {},
   "source": [
    "&#9989; **Question 3**: Write a bit code that first **defines a new list** and then **prints** possible methods you can call for that list. Write three of the methods into the answer field below. (*Hint*: the function that can output the list of all possible methods was referenced in the text above)."
   ]
  },
  {
   "cell_type": "code",
   "execution_count": 7,
   "metadata": {},
   "outputs": [
    {
     "name": "stdout",
     "output_type": "stream",
     "text": [
      "['__add__', '__class__', '__class_getitem__', '__contains__', '__delattr__', '__delitem__', '__dir__', '__doc__', '__eq__', '__format__', '__ge__', '__getattribute__', '__getitem__', '__getstate__', '__gt__', '__hash__', '__iadd__', '__imul__', '__init__', '__init_subclass__', '__iter__', '__le__', '__len__', '__lt__', '__mul__', '__ne__', '__new__', '__reduce__', '__reduce_ex__', '__repr__', '__reversed__', '__rmul__', '__setattr__', '__setitem__', '__sizeof__', '__str__', '__subclasshook__', 'append', 'clear', 'copy', 'count', 'extend', 'index', 'insert', 'pop', 'remove', 'reverse', 'sort']\n"
     ]
    }
   ],
   "source": [
    "\n",
    "my_list = []\n",
    "print(dir(my_list))"
   ]
  },
  {
   "cell_type": "markdown",
   "metadata": {},
   "source": [
    "append()\n",
    "clear()\n",
    "extend()"
   ]
  },
  {
   "cell_type": "markdown",
   "metadata": {},
   "source": [
    "&#9989; **Question 4**: Write a bit code that **creates a new dictionary** and **prints** all possible methods you can call for that dictionary. Write three of the methods into the answer field below."
   ]
  },
  {
   "cell_type": "code",
   "execution_count": 8,
   "metadata": {},
   "outputs": [
    {
     "name": "stdout",
     "output_type": "stream",
     "text": [
      "['__class__', '__class_getitem__', '__contains__', '__delattr__', '__delitem__', '__dir__', '__doc__', '__eq__', '__format__', '__ge__', '__getattribute__', '__getitem__', '__getstate__', '__gt__', '__hash__', '__init__', '__init_subclass__', '__ior__', '__iter__', '__le__', '__len__', '__lt__', '__ne__', '__new__', '__or__', '__reduce__', '__reduce_ex__', '__repr__', '__reversed__', '__ror__', '__setattr__', '__setitem__', '__sizeof__', '__str__', '__subclasshook__', 'clear', 'copy', 'fromkeys', 'get', 'items', 'keys', 'pop', 'popitem', 'setdefault', 'update', 'values']\n"
     ]
    }
   ],
   "source": [
    "# put your code here\n",
    "my_dict = {}\n",
    "print(dir(my_dict))"
   ]
  },
  {
   "cell_type": "markdown",
   "metadata": {},
   "source": [
    "keys()\n",
    "items()\n",
    "get()"
   ]
  },
  {
   "cell_type": "markdown",
   "metadata": {},
   "source": [
    "### 2.2 String and list manipulation "
   ]
  },
  {
   "cell_type": "markdown",
   "metadata": {},
   "source": [
    "Let's practice working with objects by doing a bit of string and list manipulation. In the cell below, you're provided a long string to work with."
   ]
  },
  {
   "cell_type": "code",
   "execution_count": 13,
   "metadata": {},
   "outputs": [
    {
     "name": "stdout",
     "output_type": "stream",
     "text": [
      "In this assignment, you are learning about Object Oriented Programming (OOP), which is a bit different from functional programming style that we have been using up to this point. While much of the content in this assignment will likely be new to you and a might be little confusing at first, you'll have more time to explore these concepts during the in-class assignment as well.\n"
     ]
    }
   ],
   "source": [
    "# define a long string\n",
    "text = \"In this assignment, you are learning about Object Oriented Programming (OOP), which is a bit different from functional programming style that we have been using up to this point. While much of the content in this assignment will likely be new to you and a might be little confusing at first, you'll have more time to explore these concepts during the in-class assignment as well.\"\n",
    "\n",
    "print(text)"
   ]
  },
  {
   "cell_type": "markdown",
   "metadata": {},
   "source": [
    "Do your best to write the code in the cell below each of the following question to achieve the task. **The tasks can be achieved with a just few lines of code**, so if you find that your code is 20 lines or more, you may have take a less efficient approach and you may want to consider other ways to tackle the problem. You may also want to google a helpful phrase or two like: \"splitting a Python string\" (as an example)"
   ]
  },
  {
   "cell_type": "markdown",
   "metadata": {},
   "source": [
    "&#9989; **Question 5**: Write a bit of code that **prints a Python list** that contains the words in the string \"`text`\" defined in the previous code cell. **Hint:** there is a space (` `) between the words and you can \"split\" a string into list of words."
   ]
  },
  {
   "cell_type": "code",
   "execution_count": 14,
   "metadata": {},
   "outputs": [
    {
     "name": "stdout",
     "output_type": "stream",
     "text": [
      "['In', 'this', 'assignment,', 'you', 'are', 'learning', 'about', 'Object', 'Oriented', 'Programming', '(OOP),', 'which', 'is', 'a', 'bit', 'different', 'from', 'functional', 'programming', 'style', 'that', 'we', 'have', 'been', 'using', 'up', 'to', 'this', 'point.', 'While', 'much', 'of', 'the', 'content', 'in', 'this', 'assignment', 'will', 'likely', 'be', 'new', 'to', 'you', 'and', 'a', 'might', 'be', 'little', 'confusing', 'at', 'first,', \"you'll\", 'have', 'more', 'time', 'to', 'explore', 'these', 'concepts', 'during', 'the', 'in-class', 'assignment', 'as', 'well.']\n"
     ]
    }
   ],
   "source": [
    "# put your code here\n",
    "words_list = text.split()\n",
    "print(words_list)\n"
   ]
  },
  {
   "cell_type": "markdown",
   "metadata": {},
   "source": [
    "&#9989; **Question 6**: Write a bit of code that will replace all instances of the word **assignment** to **task** in the `text` string. **Hint:** try using the replace using method from `string` class."
   ]
  },
  {
   "cell_type": "code",
   "execution_count": 15,
   "metadata": {},
   "outputs": [
    {
     "name": "stdout",
     "output_type": "stream",
     "text": [
      "In this task, you are learning about Object Oriented Programming (OOP), which is a bit different from functional programming style that we have been using up to this point. While much of the content in this task will likely be new to you and a might be little confusing at first, you'll have more time to explore these concepts during the in-class task as well.\n"
     ]
    }
   ],
   "source": [
    "# put your code here\n",
    "modified_text = text.replace(\"assignment\", \"task\")\n",
    "print(modified_text)\n"
   ]
  },
  {
   "cell_type": "markdown",
   "metadata": {},
   "source": [
    "&#9989; **Question 7**: Write a bit of code that will count the number of times word `assignment` appears in the string `text`. This can be achieved in two ways: using loops and lists, and using methods from `string` class. **Hint:** use `TAB` key or the `dir()` function to get a list of possible methods and `?` to see the description and arguments for each method. For example: to get the parameters for the numpy `.sum()` function, you would write: `np.sum?`"
   ]
  },
  {
   "cell_type": "code",
   "execution_count": 18,
   "metadata": {},
   "outputs": [
    {
     "name": "stdout",
     "output_type": "stream",
     "text": [
      "Count using loop: 3\n"
     ]
    }
   ],
   "source": [
    "# put your code here\n",
    "words_list = text.split()\n",
    "\n",
    "count = 0\n",
    "\n",
    "for word in words_list:\n",
    "    if word == \"assignment\":\n",
    "        count += 1\n",
    "\n",
    "print(f\"Count using loop: {count}\")"
   ]
  },
  {
   "cell_type": "markdown",
   "metadata": {},
   "source": [
    "&#9989; **Question 8**: Write a bit of code that converts first 5 words to upper case and prints them out. Do this in two different ways: \n",
    " - first with lists and loops (**Hint:** split string to words and convert first 5 into upper case)\n",
    " - try to do it using methods from `string` class (**Hint:** convert the whole string into upper case and split it into words and print the first 5 words)\n",
    " \n",
    "Try to accomplish the task both ways, but **do not** spend too long figuring out how to do it using either approach (we mean it, **<font color=\"red\">don't spend more than 5-10 minutes on this, if you don't immediately see a way to do it</font>** -- its more important to move onto Part 3 of this assignment). If you didn't figure it out, note this in the survey and we'll cover this in class.\n",
    "\n",
    "**Hint:** use `TAB` key to get possible methods and `?` to see the description and arguments for each method. \n"
   ]
  },
  {
   "cell_type": "code",
   "execution_count": 19,
   "metadata": {},
   "outputs": [
    {
     "name": "stdout",
     "output_type": "stream",
     "text": [
      "Count using loop: 3\n",
      "Count using string method: 3\n"
     ]
    }
   ],
   "source": [
    "# put your code here\n",
    "words_list = text.split()\n",
    "\n",
    "count = 0\n",
    "\n",
    "for word in words_list:\n",
    "    if word == \"assignment\":\n",
    "        count += 1\n",
    "\n",
    "print(f\"Count using loop: {count}\")\n",
    "\n",
    "count_method = text.count(\"assignment\")\n",
    "\n",
    "print(f\"Count using string method: {count_method}\")\n"
   ]
  },
  {
   "cell_type": "markdown",
   "metadata": {},
   "source": [
    "---\n",
    "## 3. Creating your own objects\n"
   ]
  },
  {
   "cell_type": "markdown",
   "metadata": {},
   "source": [
    "Now that we know how to use built-in objects, it's time to create our own objects. Defining the object in Python is similar to defining a function, with few extra things we have to be careful about. The main difference is in fact, that the object is storing both attributes and methods.\n",
    "\n",
    "&#9989; **Do this:** Watch the video below to learn how custom objects are defined in Python and how they are used. Answer the questions below the video."
   ]
  },
  {
   "cell_type": "code",
   "execution_count": 20,
   "metadata": {},
   "outputs": [
    {
     "data": {
      "image/jpeg": "[encoded data removed]",
      "text/html": [
       "\n",
       "        <iframe\n",
       "            width=\"800\"\n",
       "            height=\"450\"\n",
       "            src=\"https://www.youtube.com/embed/1j9BFXsZvp0\"\n",
       "            frameborder=\"0\"\n",
       "            allowfullscreen\n",
       "            \n",
       "        ></iframe>\n",
       "        "
      ],
      "text/plain": [
       "<IPython.lib.display.YouTubeVideo at 0x7f0b90290650>"
      ]
     },
     "execution_count": 20,
     "metadata": {},
     "output_type": "execute_result"
    }
   ],
   "source": [
    "# Don't forget to watch the video in full-screen mode!\n",
    "from IPython.display import YouTubeVideo  \n",
    "YouTubeVideo(\"1j9BFXsZvp0\",width=800,height=450)  # objects"
   ]
  },
  {
   "cell_type": "markdown",
   "metadata": {},
   "source": [
    "### Quick questions\n",
    "After watching the video above, answer the following two question to overview the most important facts about objects."
   ]
  },
  {
   "cell_type": "markdown",
   "metadata": {},
   "source": [
    "&#9989; **Question 9**: What is the keyword used to define a class in Python?"
   ]
  },
  {
   "cell_type": "markdown",
   "metadata": {},
   "source": [
    "Human in this scenerio"
   ]
  },
  {
   "cell_type": "markdown",
   "metadata": {},
   "source": [
    "&#9989; **Question 10**: What is the purpose of attributes in objects?"
   ]
  },
  {
   "cell_type": "markdown",
   "metadata": {},
   "source": [
    "So that the class has more attributes then one"
   ]
  },
  {
   "cell_type": "markdown",
   "metadata": {},
   "source": [
    "### 3.1 Few important things before creating an object\n",
    "\n",
    "Now that we know how to use the objects and we learned a little bit how to create them (did you watch the video above?), it's time to create our own objects. Defining the object in Python is similar to defining a function. First one needs to *define* a class to be able to *use* is later - the same as with functions.\n",
    "\n",
    "1. The most important thing you have to do to define a class:\n",
    " - the class is defined by using a keyword ```class```, followed by name of the class\n",
    " \n",
    " \n",
    "2. There are some important information to keep in mind when creating classes:\n",
    " - the first argument to every method inside class is `self` (this is defined by Python naming convention and allows the object to reference \"itself\")\n",
    " - attributes inside the class are addressed by adding `self.` before the variable name: `self.name = 'Milka'` to set the value to variable `name`; note the dot (`.`) after the `self`\n",
    " - calling methods inside class follows the same idea as attributes: if you want to call the method from inside the class, the method name needs to have `self.` before the method name: `self.get_name()`\n",
    " - methods and attributes behave the same way as they would outside of the class (types, conversion between types, assignment, etc.)\n",
    " "
   ]
  },
  {
   "cell_type": "markdown",
   "metadata": {},
   "source": [
    "### 3.2 Defining object a new object: `Animal`\n",
    "\n",
    "We will create a class to store information about animals in a Zoo, or maybe later, to create list of characters from the [Madagascar movie](https://www.imdb.com/title/tt0351283/). It is common  when creating a class to start with a basic class description, that includes only a few attributes and methods, test the basic class and then add both attributes and methods into the class as needed. The class (as objects) can evolve and/or grow in time.\n",
    "\n",
    "In the cell below is the base definition of the `Animal` class with the following attributes (see the code below and try to identify the variables that correspond to this attributes):\n",
    " - animal kind (e.g. zebra, lion, elephant, penguin)\n",
    " - animal nickname\n",
    " - when the animal arrived to the Zoo (date string in format yyyy-mm-dd)\n",
    "\n",
    "To initialize the `Animal` object, and set and retrieve the attributes in object, the following methods are defined in the class (see the code below and try to identify each method):\n",
    " - initialize the `Animal` class (`__init__`), which accepts \"`kind`\", \"`nickname`\" and brought `to_zoo` as parameters.\n",
    " - set the animal `name` (`set_name`), which allows you to change the name of the animal by providing a new `name`.\n",
    " - get the current animal nickname (`get_name`), which doesn't not require any input.\n",
    "\n",
    "&#9989; **Do this:** Look at the code below and try to identify the attributes and methods. You can add comments to the code the same way you've done with previous code.\n",
    "\n",
    "**Note**: the `__init__` method is a special one associated with all Python objects. This function is called by automatically when the object is first created and is used to initialize a set of starting attributes. It is referred to as a \"constructor\" in object oriented programming terminology.\n",
    "\n",
    "\n",
    "### 3.3 Adding missing methods\n",
    "\n",
    "&#9989; **Do this:** Review how methods are created and special pay special attention to the details how class attributes are defined and used (note the use of `self`). Armed with the knowledge you've gleaned from the provided code, add the following methods to the class (you can use existing methods to as a starting point for your new methods):\n",
    " - Create a method to set the animal 'kind', use `set_kind` as the method name.\n",
    " - Create a method to set the date for when the animal was brought to the Zoo, use `set_arrive_to_zoo` as the method name.\n",
    " - Create a method to get the animal nickname, use `get_kind` as the method name.\n",
    " - Create a method to get the date of when the animal was brought to the Zoo, use `get_arrive_to_zoo`as the method name."
   ]
  },
  {
   "cell_type": "code",
   "execution_count": 33,
   "metadata": {},
   "outputs": [],
   "source": [
    "# Here is a skeleton of Animal class with few methods defined, but with some missing.\n",
    "\n",
    "class Animal:\n",
    "    def __init__(self, kind, name, to_zoo=''):\n",
    "        ''' Initialize the Animal object.\n",
    "        Inputs are\n",
    "        kind : the type of animal (string)\n",
    "        name : the nickname for the animal (string)\n",
    "        to_zoo : the date the animal came to the zoo (in 'yyyy-mm-dd' format)\n",
    "        '''\n",
    "        # this is: \n",
    "        self.kind = kind\n",
    "        # this is:\n",
    "        self.name = name\n",
    "        # this is:\n",
    "        self.brought_to_zoo = to_zoo\n",
    "\n",
    "    def set_name(self, name):\n",
    "        ''' Set animal's name. '''\n",
    "        self.name = name\n",
    "\n",
    "    def get_name(self):\n",
    "        ''' Return animal's name. '''\n",
    "        return self.name\n",
    "\n",
    "    def get_kind(self):\n",
    "        return self.kind\n",
    "\n",
    "    def set_kind(self, kind):\n",
    "        self.kind = kind\n",
    "\n",
    "    def set_arrive_to_zoo(self, date):\n",
    "        self.arrive_to_zoo = date\n",
    "\n",
    "    def get_arrive_to_zoo(self):\n",
    "        return self.arrive_to_zoo"
   ]
  },
  {
   "cell_type": "markdown",
   "metadata": {},
   "source": [
    "&#9989; **Do this:** Now run the code in the cell below to test your class. The code creates few objects with [animal names from the Madagascar movie](https://en.wikipedia.org/wiki/List_of_Madagascar_(franchise)_characters) and prints out what kind of animal are they together with their nickname along with the arrival date for one of the animals. The output of your testing code should be:\n",
    "```\n",
    "Original information:\n",
    "Alex is a zebra.\n",
    "Kowalski is a tiger.\n",
    "---\n",
    "Corrected information:\n",
    "Alex is a lion.\n",
    "Kowalski is a penguin.\n",
    "---\n",
    "When did Marty arrive?\n",
    "Marty was brought to the zoo on 2005-05-27\n",
    "```\n",
    "\n",
    "If there is an error, go back to class definition and correct the code. With correctly implemented methods, **the test code should run without any errors**."
   ]
  },
  {
   "cell_type": "code",
   "execution_count": 34,
   "metadata": {},
   "outputs": [
    {
     "name": "stdout",
     "output_type": "stream",
     "text": [
      "Original information:\n",
      "Alex is a zebra.\n",
      "Kowalski is a tiger.\n",
      "---\n",
      "Corrected information:\n",
      "Alex is a lion.\n",
      "Kowalski is a penguin.\n",
      "---\n",
      "When did Marty arrive?\n",
      "Marty was brought to the zoo on 2005-05-27\n"
     ]
    }
   ],
   "source": [
    "# create object for defining few characters from The Madagascar\n",
    "alex = Animal('zebra', 'Alex')\n",
    "marty = Animal('zebra', 'Marty')\n",
    "skipper = Animal('penguin', 'Skipper')\n",
    "kowalski = Animal('tiger', 'Kowalski')\n",
    "\n",
    "print(\"Original information:\")\n",
    "# printing animal names and kinds\n",
    "print(\"{0} is a {1}.\".format(alex.get_name(),alex.get_kind()))\n",
    "print(\"{0} is a {1}.\".format(kowalski.get_name(),kowalski.get_kind()))\n",
    "\n",
    "print('---')\n",
    "print(\"Corrected information:\")\n",
    "# oops, there was an error in the information for Alex and Kowalski, set the correct info:\n",
    "alex.set_kind('lion')\n",
    "print(\"{0} is a {1}.\".format(alex.get_name(),alex.get_kind()))\n",
    "kowalski.set_kind('penguin')\n",
    "print(\"{0} is a {1}.\".format(kowalski.get_name(),kowalski.get_kind()))\n",
    "\n",
    "print('---')\n",
    "print(\"When did Marty arrive?\")\n",
    "# Set the date that marty wasd brought to the zoo and then print it\n",
    "marty.set_arrive_to_zoo(\"2005-05-27\")\n",
    "print(\"{0} was brought to the zoo on {1}\".format(marty.get_name(),marty.get_arrive_to_zoo()))"
   ]
  },
  {
   "cell_type": "markdown",
   "metadata": {},
   "source": [
    "---\n",
    "## 4. Additional reading (not mandatory)"
   ]
  },
  {
   "cell_type": "markdown",
   "metadata": {},
   "source": [
    "**For more information about classes in Python, check out this link:**\n",
    "* [Python - classes](https://docs.python.org/3/tutorial/classes.html)\n",
    "\n",
    "**Important**: The web page above includes comprehensive information about classes and you are **NOT** expected to read everything presented! Few topics beyond **9.3.2 Class Objects** will be covered in the next class.\n"
   ]
  },
  {
   "cell_type": "markdown",
   "metadata": {},
   "source": [
    "---\n",
    "## Follow-up Questions\n",
    "\n",
    "Copy and paste the following questions into the appropriate box in the assignment survey include below and answer them there. (Note: You'll have to fill out the assignment number and go to the \"NEXT\" section of the survey to paste in these questions.)\n",
    "\n",
    "1. Which function in Python would you use to print attributes and methods defined for an object?\n",
    "\n",
    "2. Each object is made up of three (3) key components. Which are these three components?\n",
    "\n",
    "3. What is the keyword used to define a class in Python?\n",
    "\n",
    "4. What is the purpose of attributes in objects?\n"
   ]
  },
  {
   "cell_type": "markdown",
   "metadata": {},
   "source": [
    "---\n",
    "## Assignment wrap-up\n",
    "\n",
    "Please fill out the form that appears when you run the code below.  **You must completely fill this out in order to receive credit for the assignment!**"
   ]
  },
  {
   "cell_type": "code",
   "execution_count": 35,
   "metadata": {},
   "outputs": [
    {
     "data": {
      "text/html": [
       "\n",
       "<iframe \n",
       "\tsrc=\"https://cmse.msu.edu/cmse202-pc-survey\" \n",
       "\twidth=\"800\" \n",
       "\theight=\"800px\" \n",
       "\tframeborder=\"0\" \n",
       "\tmarginheight=\"0\" \n",
       "\tmarginwidth=\"0\">\n",
       "\tLoading...\n",
       "</iframe>\n"
      ],
      "text/plain": [
       "<IPython.core.display.HTML object>"
      ]
     },
     "execution_count": 35,
     "metadata": {},
     "output_type": "execute_result"
    }
   ],
   "source": [
    "from IPython.display import HTML\n",
    "HTML(\n",
    "\"\"\"\n",
    "<iframe \n",
    "\tsrc=\"https://cmse.msu.edu/cmse202-pc-survey\" \n",
    "\twidth=\"800\" \n",
    "\theight=\"800px\" \n",
    "\tframeborder=\"0\" \n",
    "\tmarginheight=\"0\" \n",
    "\tmarginwidth=\"0\">\n",
    "\tLoading...\n",
    "</iframe>\n",
    "\"\"\"\n",
    ")"
   ]
  },
  {
   "cell_type": "markdown",
   "metadata": {},
   "source": [
    "### Congratulations, you're done!\n",
    "\n",
    "Submit this assignment by uploading it to the course Desire2Learn web page.  Go to the \"Pre-class assignments\" folder, find the appropriate dropbox link, and upload it there.\n",
    "\n",
    "See you in class!"
   ]
  },
  {
   "cell_type": "markdown",
   "metadata": {},
   "source": [
    "&#169; Copyright 2024,  Department of Computational Mathematcs, Science and Engineering at Michigan State University\n",
    "\n",
    "<!-- 8/29/2024 -->"
   ]
  },
  {
   "cell_type": "markdown",
   "metadata": {},
   "source": []
  }
 ],
 "metadata": {
  "kernelspec": {
   "display_name": "Python 3.11 (default)",
   "language": "python",
   "name": "python3"
  },
  "language_info": {
   "codemirror_mode": {
    "name": "ipython",
    "version": 3
   },
   "file_extension": ".py",
   "mimetype": "text/x-python",
   "name": "python",
   "nbconvert_exporter": "python",
   "pygments_lexer": "ipython3",
   "version": "3.11.9"
  },
  "toc": {
   "base_numbering": 1,
   "nav_menu": {},
   "number_sections": true,
   "sideBar": true,
   "skip_h1_title": false,
   "title_cell": "Table of Contents",
   "title_sidebar": "Contents",
   "toc_cell": true,
   "toc_position": {},
   "toc_section_display": true,
   "toc_window_display": false
  },
  "widgets": {
   "application/vnd.jupyter.widget-state+json": {
    "state": {},
    "version_major": 2,
    "version_minor": 0
   }
  }
 },
 "nbformat": 4,
 "nbformat_minor": 4
}
