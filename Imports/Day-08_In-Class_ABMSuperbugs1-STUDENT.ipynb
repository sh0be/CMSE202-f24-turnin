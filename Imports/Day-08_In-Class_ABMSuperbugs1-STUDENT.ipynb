{
 "cells": [
  {
   "attachments": {},
   "cell_type": "markdown",
   "metadata": {},
   "source": [
    "# In-Class Assignment: Simulating Superbugs using agent-based modeling\n",
    "# Day 8\n",
    "# CMSE 202\n",
    "\n",
    "<img src=\"https://sites.psu.edu/siowfa16/files/2016/10/Screen-Shot-2016-10-18-at-12.50.26-AM-1egeuzd.png\" width=400px>\n",
    "<p style=\"text-align: right;\">Image from: https://sites.psu.edu/siowfa16/2016/10/18/what-are-superbugs/comment-page-1/</p>"
   ]
  },
  {
   "cell_type": "markdown",
   "metadata": {},
   "source": [
    "### <p style=\"text-align: right;\"> &#9989; **Put your name here** </p>\n",
    "#### <p style=\"text-align: right;\"> &#9989; Put your group member names here</p>"
   ]
  },
  {
   "cell_type": "markdown",
   "metadata": {},
   "source": [
    "## Learning Goals:\n",
    "\n",
    "By the end of this assignment you should have:\n",
    "* Become more comfortable with writing a custom class from scratch\n",
    "* Practiced using stub functions to sketch out the methods needed by a new class\n",
    "* Designed a plan for implementing an agent-based model to simulate bacteria evolution\n",
    "    * **Note**: Design decisions early on can have a large impact on the final outcome.  Try to make design decisions that are flexible. Do not be afraid to refactor your code (i.e. start over with the design). \n",
    "\n",
    "## Agenda\n",
    "\n",
    "1. [Pre-class assignment review and discussion](#pca-review)\n",
    "1. [Problem Description (simulating bacteria evolution)](#problem)\n",
    "1. [Building code stubs for your model (using classes and methods)](#code-stubs)\n",
    "1. [Preview Visualization](#visualization)\n",
    "\n",
    "## Assignment instructions\n",
    "\n",
    "Instructions for submitting this assignment are at the end of the notebook. The assignment is due at the end of class.\n"
   ]
  },
  {
   "cell_type": "markdown",
   "metadata": {},
   "source": [
    "---\n",
    "<a id=\"pca-review\"></a>\n",
    "# 1. Pre-class assignment review and discussion\n",
    "\n",
    "Did anyone have any specific issues with the pre-class assignment?\n",
    "\n",
    "Let's take a moment to highlight some key concepts. **Discuss with your group** the following prompts and write down a some brief notes from your discussion.\n",
    "\n",
    "&#9989; **Question 1:** What data structures did you think you might need to simulate the petri-dish experiment? What would these data structures be used to represent or keep track of?"
   ]
  },
  {
   "cell_type": "markdown",
   "metadata": {},
   "source": [
    "You would need loops and a stub function"
   ]
  },
  {
   "cell_type": "markdown",
   "metadata": {},
   "source": [
    "&#9989; **Question 2:** What classes did you think you would need to define and what were some of the methods you came up with?"
   ]
  },
  {
   "cell_type": "markdown",
   "metadata": {},
   "source": [
    "Some classes you would need would be replicate, mutate, and execute "
   ]
  },
  {
   "cell_type": "markdown",
   "metadata": {},
   "source": [
    "----\n",
    "<a id=\"problem\"></a>\n",
    "# 2. Problem Description (simulating bacteria evolution)\n",
    "\n",
    "In this assignment we are going to start to build an agent based model to simulate the evolution of bacteria to become resistant to antibiotics.   If you need to refresh your memory, re-watch the following video that was in your pre-class assignment.  Our goal is to build a simulation that reconstructs this real world experiment. \n",
    "\n",
    "Here's the link to the original article as well: http://www.the-scientist.com/?articles.view/articleNo/46993/title/Giant-Petri-Dish-Displays-Evolution-in-Space-and-Time/"
   ]
  },
  {
   "cell_type": "code",
   "execution_count": null,
   "metadata": {},
   "outputs": [],
   "source": [
    "from IPython.display import YouTubeVideo\n",
    "YouTubeVideo(\"yybsSqcB7mE\",width=640,height=360)"
   ]
  },
  {
   "cell_type": "markdown",
   "metadata": {},
   "source": [
    "To make this ABM work we would like you to build a system with the following assumptions.\n",
    "\n",
    "1. Assume a random rectangular petri dish of ```N``` locations wide and ```M``` locations tall (e.g. 90 x 45).\n",
    "1. Assume that each location on the board is given three (3) different types of antibiotics which each can have continuous values from min to max (e.g. 0 to 1).\n",
    "1. Assume that bacteria on the board do not move. \n",
    "1. Assume each bacteria has a genome sequence of three genes of continuous number (e.g. 0 to 1) that provide immunity to the antibiotics. Each gene will correspond to one of the antibiotic elements deposited on the petri dish\n",
    "1. Assume that at each iteration of the simulation each bacteria can randomly copy itself once to a random neighboring empty cell (up, down, left, or right). \n",
    "1. Assume that during the copy there is a chance of mutating each gene (randomly selecting a new value between zero and one) by some mutation rate (e.g. 20%). \n",
    "1. Assume that a bacteria will \"die\" if the value of it's gene does not contain resistance to any one of the three antibacteria. For example, if the gene is a number less than the value of it's corresponding antibiotic it will die.\n",
    "\n",
    "**NOTE:** Assumptions are very important.  Make sure you document any major changes, clarifications or deviations from the above.  Instead of asking your instructor for clarification, try looking at the end goal (simulate the petri dish experiment) and make your own clarification. There are many right answers.  "
   ]
  },
  {
   "cell_type": "markdown",
   "metadata": {},
   "source": [
    "&#9989; **Question 3:** What additional assumptions do you think you need to make for this project?  Do you need to modify or add to any of the above assumptions to make the problem more tractable?"
   ]
  },
  {
   "cell_type": "markdown",
   "metadata": {},
   "source": [
    "You would need a possible self kill switch if the mutation was inefficient and became \"cancerous\" such as in a real life cell a possible contingency  plan if you were to create rouge program mistakes."
   ]
  },
  {
   "cell_type": "markdown",
   "metadata": {},
   "source": [
    "**Consider the following example simulation as one possible solution to this problem:**"
   ]
  },
  {
   "cell_type": "code",
   "execution_count": null,
   "metadata": {},
   "outputs": [],
   "source": [
    "from IPython.display import YouTubeVideo\n",
    "YouTubeVideo(\"p_wGHmNYE_0\",width=800,height=450)"
   ]
  },
  {
   "cell_type": "markdown",
   "metadata": {},
   "source": [
    "This video was created with the following settings:\n",
    "\n",
    "* The bugs were initialized in the first and last column of the petri dish with randomly generated bacteria \n",
    "* Equal amounts of all three antibiotics in 9 different bins using the following pattern:  \n",
    "    | 0.0 | 0.50 | 0.75 | 0.80 | 0.95 | 0.80 | 0.75 | 0.5 | 0.0 |\n",
    "* The cells copied with a mutation rate of 20% (i.e. there is a 20% chance each gene will randomly mutate during each copy).\n"
   ]
  },
  {
   "cell_type": "markdown",
   "metadata": {},
   "source": [
    "----\n",
    "<a id=\"code-stubs\"></a>\n",
    "# 3. Building code stubs for your model (using classes and methods)\n",
    "\n",
    "**&#9989; Do This:** **As a group**, decide on what classes and functions that will be needed for the simulation and create stub functions for your classes.  Focus on the inputs, outputs and data types, but don't worry about trying to code up all of your methods yet! You just need the stub functions. \n",
    "\n",
    "Here are some hints:\n",
    "- you can use the `pass` keyword to create an empty class or an empty method. However, in creating an empty method you can still specify the input parameters which can be useful\n",
    "- you might think about some class variables, values that can be stored and utilized by all instances"
   ]
  },
  {
   "cell_type": "code",
   "execution_count": null,
   "metadata": {},
   "outputs": [],
   "source": [
    "# Put your stub functions here\n",
    "class Bacteria:\n",
    "    \n",
    "    def __init__(self):\n",
    "        pass\n",
    "    \n",
    "    def reproduce(self):\n",
    "        pass\n",
    "    \n",
    "    def mutate(self):\n",
    "        pass\n",
    "    \n",
    "    def die(self):\n",
    "        pass"
   ]
  },
  {
   "cell_type": "markdown",
   "metadata": {},
   "source": [
    "----\n",
    "<a id=\"visualization\"></a>\n",
    "# 4.  Initialize and draw your \"world\" for the model (i.e. the petri dish and initial bacteria)"
   ]
  },
  {
   "cell_type": "markdown",
   "metadata": {},
   "source": [
    "Lets start filling in the stub functions by focusing on the **visualization**. Try considering the following:\n",
    "\n",
    "* Use colors to indicate the level of antibiotics in the petri dish. Since there are three antibiotics you can use the Red, Green and Blue Channels to indicate the amount of each of the three antibiotics. The `imshow` function can process a 2D array of RGB values.\n",
    "* Use colors to differentiate the types of the bugs. Since there are three genes for each bug, you can use the Red, Green and Blue color channels to differentiate them. The `scatter` function can take in a list of RGB values to color a point.\n",
    "\n",
    "You should come up with a method (or couple of methods) in your class (or classes) to draw the petri dish and the bugs. Should bug be able to draw themselves on the petri dish given their location? Or should the petri dish handling all of the drawing given a list of bugs? You get to choose how to do this!"
   ]
  },
  {
   "cell_type": "markdown",
   "metadata": {},
   "source": [
    "**&#9989; Do This:** Try to implement some of your stub functions to initialize the problem and see if you can come up with a method to visualize the starting state. See if you can create a board that looks similar to the following:\n",
    "<div align=\"center\"><img src=\"https://i.ibb.co/gwwg9rC/example-dish.png\" alt=\"example-dish\" border=\"0\", width=800></div>\n"
   ]
  },
  {
   "cell_type": "code",
   "execution_count": 1,
   "metadata": {},
   "outputs": [
    {
     "data": {
      "image/png": "[encoded data removed]",
      "text/plain": [
       "<Figure size 1000x500 with 1 Axes>"
      ]
     },
     "metadata": {},
     "output_type": "display_data"
    }
   ],
   "source": [
    "import numpy as np\n",
    "import matplotlib.pyplot as plt\n",
    "\n",
    "class Bacteria:\n",
    "    def __init__(self, genes, position):\n",
    "        self.genes = np.array(genes)  # RGB values for the bacteria's genes\n",
    "        self.position = np.array(position, dtype=np.float64)  # Bacteria's position (x, y)\n",
    "        self.alive = True  # The bacteria is alive\n",
    "\n",
    "    def replicate(self, direction):\n",
    "        # Replicate by creating a new bacterium right next to the parent in a specified direction (left or right)\n",
    "        new_position = self.position + direction\n",
    "        return Bacteria(self.genes, new_position)\n",
    "\n",
    "    def draw(self, ax):\n",
    "        if self.alive:\n",
    "            ax.scatter(self.position[0], self.position[1], color=self.genes, s=100)  # Draw the bacterium\n",
    "\n",
    "\n",
    "class PetriDish:\n",
    "    def __init__(self, width, height):\n",
    "        self.width = width\n",
    "        self.height = height\n",
    "        self.center = np.array([width // 2, height // 2])  # Center of the petri dish\n",
    "        self.antibiotic_levels = np.zeros((height, width))  # 2D array for antibiotic levels (grayscale)\n",
    "        self.bacteria_list = []\n",
    "\n",
    "    def add_bacteria(self, bacteria):\n",
    "        self.bacteria_list.append(bacteria)\n",
    "\n",
    "    def generate_symmetrical_antibiotic_gradient(self):\n",
    "      \n",
    "        num_bands = 9  # Total of 9 vertical bands\n",
    "        band_width = self.width // num_bands\n",
    "        for i in range(self.width):\n",
    "            band_idx = i // band_width\n",
    "            # Create a mirrored gradient (low resistance on sides (white), high in the middle (black))\n",
    "            if i < self.width // 2:\n",
    "                gray_value = 1 - (band_idx / (num_bands // 2))  # Reversed grayscale\n",
    "            else:\n",
    "                gray_value = 1 - ((num_bands - 1 - band_idx) / (num_bands // 2))  # Mirror bands\n",
    "            self.antibiotic_levels[:, i] = gray_value  # Apply grayscale value to the column\n",
    "\n",
    "    def antibiotic_level_at(self, position):\n",
    "        x, y = int(position[0]), int(position[1])\n",
    "        return self.antibiotic_levels[y, x]  # Return the antibiotic level (grayscale value)\n",
    "\n",
    "    def replicate_bacteria(self):\n",
    "\n",
    "        new_bacteria = []\n",
    "        for bacteria in self.bacteria_list:\n",
    "            current_antibiotic_level = self.antibiotic_level_at(bacteria.position)\n",
    "            random_value = np.random.rand()  # Random value between 0 and 1\n",
    "\n",
    "            if bacteria.position[0] > self.width // 2:  # If the bacteria is on the right\n",
    "                direction = [-1, 0]  # Move left\n",
    "            else:  # If the bacteria is on the left\n",
    "                direction = [1, 0]  # Move right\n",
    "\n",
    "            # Check if the bacteria can replicate towards the center\n",
    "            if random_value > current_antibiotic_level:\n",
    "                new_bacteria.append(bacteria.replicate(direction))  # Successful replication towards the center\n",
    "            else:\n",
    "                # Bacteria stays in the same spot if it fails the replication test\n",
    "                new_bacteria.append(bacteria.replicate([0, 0]))\n",
    "\n",
    "        # Add new bacteria to the dish\n",
    "        self.bacteria_list.extend(new_bacteria)\n",
    "\n",
    "    def draw(self):\n",
    "        fig, ax = plt.subplots(figsize=(10, 5))  # Adjusted to match the aspect ratio of your image\n",
    "        \n",
    "        # Draw the antibiotic levels (grayscale bands)\n",
    "        ax.imshow(self.antibiotic_levels, cmap='gray', interpolation='nearest', origin='lower')\n",
    "\n",
    "        # Draw the bacteria\n",
    "        for bacteria in self.bacteria_list:\n",
    "            bacteria.draw(ax)\n",
    "\n",
    "        plt.show()\n",
    "\n",
    "\n",
    "# Example usage\n",
    "petri_dish = PetriDish(90, 50)  # Create a petri dish of size 90x50\n",
    "\n",
    "# Generate the reversed antibiotic gradient with white sides and a dark middle\n",
    "petri_dish.generate_symmetrical_antibiotic_gradient()\n",
    "\n",
    "# Add initial bacteria on the left and right sides only\n",
    "for i in range(0, petri_dish.height, 5):  # Spacing out the bacteria evenly\n",
    "    # Left side bacteria\n",
    "    petri_dish.add_bacteria(Bacteria([np.random.rand(), np.random.rand(), np.random.rand()], (0, i)))\n",
    "    # Right side bacteria\n",
    "    petri_dish.add_bacteria(Bacteria([np.random.rand(), np.random.rand(), np.random.rand()], (petri_dish.width - 1, i)))\n",
    "\n",
    "# Simulate bacteria replication towards the center over multiple steps\n",
    "for _ in range(1):  # Run for 20 time steps\n",
    "    petri_dish.replicate_bacteria()\n",
    "    petri_dish.draw()"
   ]
  },
  {
   "cell_type": "markdown",
   "metadata": {},
   "source": [
    "-----\n",
    "### Congratulations, we're done!\n",
    "\n",
    "Now, you just need to submit this assignment by uploading it to the course <a href=\"https://d2l.msu.edu/\">Desire2Learn</a> web page for today's submission folder (Don't forget to add your names in the first cell).\n"
   ]
  },
  {
   "cell_type": "markdown",
   "metadata": {},
   "source": [
    "&#169; Copyright 2024, Department of Computational Mathematics, Science and Engineering at Michigan State University\n",
    "\n",
    "<!-- 8/29/2024 -->"
   ]
  }
 ],
 "metadata": {
  "kernelspec": {
   "display_name": "Python 3.11 (default)",
   "language": "python",
   "name": "python3"
  },
  "language_info": {
   "codemirror_mode": {
    "name": "ipython",
    "version": 3
   },
   "file_extension": ".py",
   "mimetype": "text/x-python",
   "name": "python",
   "nbconvert_exporter": "python",
   "pygments_lexer": "ipython3",
   "version": "3.11.9"
  },
  "widgets": {
   "application/vnd.jupyter.widget-state+json": {
    "state": {},
    "version_major": 2,
    "version_minor": 0
   }
  }
 },
 "nbformat": 4,
 "nbformat_minor": 4
}
