{
 "cells": [
  {
   "cell_type": "markdown",
   "metadata": {},
   "source": [
    "# In-class Assignment: We have a Zoo!\n",
    "# Day 6\n",
    "# CMSE 202\n",
    "<img src=\"https://images.thedirect.com/media/article_full/mada.jpg\" width=500px>"
   ]
  },
  {
   "cell_type": "markdown",
   "metadata": {},
   "source": [
    "### <p style=\"text-align: right;\"> &#9989; Put your name here.\n",
    "<p style=\"text-align: right;\"> &#9989; Put your group member names here."
   ]
  },
  {
   "cell_type": "markdown",
   "metadata": {},
   "source": [
    "## Learning Goals:\n",
    "\n",
    "By the end of this assignment you should be able to:\n",
    "\n",
    "* Review code that uses built-in and/or custom written Python objects (classes)\n",
    "* Use objects in connection to other variable types in Python.\n",
    "\n",
    "## Assignment instructions\n",
    "\n",
    "Work with your group to complete this assignment. Instructions for submitting this assignment are at the end of the notebook. The assignment is due at the end of class.\n",
    "\n",
    "## Agenda for today:\n",
    "\n",
    "1. [Creating a Zoo using the `Animal` object](#creating)\n",
    "2. [Let's assemble a Zoo](#assemble)\n",
    "3. [Printing some information about the Zoo](#printing)\n",
    "4. [Visualizing some information about your Zoo (time permitting)](#visualize)\n",
    "\n",
    "### Download an additional file\n",
    "\n",
    "There is an extra file that you need for this assignment named \"Animal.py\". **Make sure you download that file and put it in the same location as this Jupyter notebook**. The file contains the definition of the class you will use in the assignment. You can get it here:\n",
    "\n",
    "`https://raw.githubusercontent.com/msu-cmse-courses/cmse202-supplemental-data/main/code_samples/Animal.py`"
   ]
  },
  {
   "cell_type": "markdown",
   "metadata": {},
   "source": [
    "---\n",
    "<a id=\"creating\"></a>\n",
    "## 1: Creating a Zoo using the `Animal` object\n",
    "\n",
    "The objective of this assignment is to create a Zoo with various numbers of animals and various species. The `Animal` object is already prepared and available in file `Animal.py` (check that you downloaded the file and put it in the right location).\n",
    "\n",
    "**&#9989; Do This:** **Open the file and look how the object is written**.\n",
    "\n",
    "Before creating a Zoo, discuss with your group how you will define some of the parameters you will need for your Zoo and for each animal in the Zoo:\n",
    " - The animals (species) you will have in your Zoo\n",
    " - The number of zookeepers needed to take care of **each animal**; can be a fraction: 0.2 means one zookeeper can take care of 5 animals\n",
    " - the area required in the Zoo for **each animal**; this can be an average value per animal (i.e. if 10 zebras require 10,000 m$^2$, use 1000 for each zebra)\n",
    "\n",
    "**&#9989; Do This:** **Create one or more dictionaries and store your estimated values into those dictionaries for later use**.\n",
    "\n",
    "**Suggestion:** Write out the list of animals you decided to \"have\" in the Zoo and then define values for each of them. Use a collaborative document or whiteboard as necessary!\n"
   ]
  },
  {
   "cell_type": "code",
   "execution_count": 12,
   "metadata": {},
   "outputs": [],
   "source": [
    "# write estimated values\n",
    "# area['lion'] = 600\n",
    "# keepers['lion'] = 2\n",
    "# or the other way (first number of an area, second is number of keepers):\n",
    "# animals['lion'] = [600, 2]\n",
    "\n",
    "animals = {\n",
    "    'lion': [600, 2],        \n",
    "    'elephant': [1000, 3],       \n",
    "    'giraffe': [800, 1.5],   \n",
    "    'penguin': [100, 0.5],  \n",
    "    'tiger': [500, 2],         \n",
    "    'flamingo': [50, 0.2],   \n",
    "    'rhino': [900, 2.5],     \n",
    "    'chimpanzee': [200, 1],  \n",
    "}\n",
    "\n",
    "# Example usage: Accessing the area and number of zookeepers for lions\n",
    "lion_area = animals['lion'][0]   # 600 m²\n",
    "lion_keepers = animals['lion'][1]  # 2 zookeepers\n"
   ]
  },
  {
   "cell_type": "markdown",
   "metadata": {},
   "source": [
    "### 1.1 Initialization \n",
    "\n",
    "**&#9989; Do This:** Do not forget to run the cell below. The cell imports necessary modules, `numpy` and `matplotlib`, and also our new `Animal` module, which contains the definition of the class `Animal` that we will use during the assignment."
   ]
  },
  {
   "cell_type": "code",
   "execution_count": 27,
   "metadata": {},
   "outputs": [],
   "source": [
    "import numpy as np\n",
    "import matplotlib.pyplot as plt\n",
    "# import animal class from the Python script\n",
    "from Animal import Animal\n",
    "# The magic command below instructs Jupyter Notebook to automatically load classes and methods from external files \n",
    "# in case they have changed from last load time;\n",
    "# This is needed when you change the Animal.py file\n",
    "%reload_ext autoreload\n",
    "%autoreload 2"
   ]
  },
  {
   "cell_type": "markdown",
   "metadata": {},
   "source": [
    "### 1.2 Create a single Animal object\n",
    "\n",
    "First create one `Animal` object to practice creating objects. Store this object as the variable `alex`. You can use code from pre-class assignment for creating objects or fill-in missing pieces in the code below.\n"
   ]
  },
  {
   "cell_type": "code",
   "execution_count": 23,
   "metadata": {},
   "outputs": [],
   "source": [
    "# put your code here or complete the provided code\n",
    "# define parameters to method Animal(); look into file Animal.py or add new cell and use command 'Animal.Animal?' to see the required parameters\n",
    "alex = Animal('Lion', 'Alex')\n",
    "# add the area\n",
    "alex.set_required_area(600)\n",
    "# add also number of keepers using method `set_number_keepers()`\n",
    "alex.set_number_keepers(2)"
   ]
  },
  {
   "cell_type": "markdown",
   "metadata": {},
   "source": [
    "**&#9989; Do This:** Once you've created your `alex` animal, run the following cell to test that everything is working as intended."
   ]
  },
  {
   "cell_type": "code",
   "execution_count": 24,
   "metadata": {},
   "outputs": [
    {
     "name": "stdout",
     "output_type": "stream",
     "text": [
      "Alex is a Lion and requires 600 m^2 of space and 2 keepers to be happy.\n"
     ]
    }
   ],
   "source": [
    "# test your new object; no error should occur and you should see the values you defined above\n",
    "print(\"{0} is a {1} and requires {2} m^2 of space and {3} keepers to be happy.\".format(alex.get_name(), alex.get_kind(), alex.get_required_area(), alex.get_number_keepers()))\n"
   ]
  },
  {
   "cell_type": "markdown",
   "metadata": {},
   "source": [
    "---\n",
    "<a id=\"assemble\"></a>\n",
    "## 2: Let's assemble a Zoo\n",
    "\n",
    "**&#9989; Do This:** Create a list that will contain all the `Animal` objects that will be stored in the Zoo. First create an object for each animal (re-use the code above for each animal), define all attributes (name, kind, arrival date, area, and keepers) and then add the object to the list (using the function `append()` function). **You should put at least 5 animals in your Zoo.**\n"
   ]
  },
  {
   "cell_type": "code",
   "execution_count": 58,
   "metadata": {},
   "outputs": [],
   "source": [
    "# put your code here\n",
    "\n",
    "# This list will be used for storing all of your Zoo animals\n",
    "zoo = []\n",
    "\n",
    "# Define your Zoo animals\n",
    "alex = Animal('lion', 'Alex')  # 'name', 'species', 'arrival date', age, weight\n",
    "alex.set_required_area(600)\n",
    "alex.set_number_keepers(2)\n",
    "zoo.append(alex)\n",
    "\n",
    "manny = Animal('elephant', 'manny')\n",
    "manny.set_required_area(1000)\n",
    "manny.set_number_keepers(3)\n",
    "\n",
    "zoo.append(manny)\n",
    "\n",
    "marty = Animal('zebra', 'Marty')\n",
    "marty.set_required_area(400)\n",
    "marty.set_number_keepers(1)\n",
    "zoo.append(marty)\n",
    "\n",
    "melman = Animal('giraffe', 'Melman')\n",
    "melman.set_required_area(800)\n",
    "melman.set_number_keepers(1.5)\n",
    "zoo.append(melman)\n",
    "\n",
    "gloria = Animal('hippo', 'Gloria')\n",
    "gloria.set_required_area(900)\n",
    "gloria.set_number_keepers(2.5)\n",
    "zoo.append(gloria)\n",
    "\n",
    "# Depending on how you set things up, you can use the values you have defined before: e.g. set_required_area(area['lion'])\n",
    "# Make sure you append each animal to the list after you create it"
   ]
  },
  {
   "cell_type": "markdown",
   "metadata": {},
   "source": [
    "### Test: Who are the animals in the Zoo?\n",
    "\n",
    "**&#9989; Do This:** Run the code to print out the animals in your Zoo. Since we are using objects (objects contain all necessary information about object itself), the code should run without errors and print names of the animals in the Zoo."
   ]
  },
  {
   "cell_type": "code",
   "execution_count": 33,
   "metadata": {},
   "outputs": [
    {
     "name": "stdout",
     "output_type": "stream",
     "text": [
      "Alex is a lion.\n",
      "manny is a elephant.\n",
      "Marty is a zebra.\n",
      "Melman is a giraffe.\n",
      "Gloria is a hippo.\n"
     ]
    }
   ],
   "source": [
    "# printing all animals in the ZOO\n",
    "# !!! add the name of your list variable to the \"for\" loop!!!\n",
    "for animal in zoo:\n",
    "    # print all animals in the ZOO\n",
    "    print(\"{0} is a {1}.\".format(animal.get_name(), animal.get_kind()))\n",
    "    "
   ]
  },
  {
   "cell_type": "markdown",
   "metadata": {},
   "source": [
    "---\n",
    "<a id=\"printing\"></a>\n",
    "## 3: Printing some information about the Zoo\n",
    "\n",
    "Now with the Zoo defined, we can print out some more or less interesting facts about our Zoo.\n",
    "\n",
    "**&#9989; Do This:** Write the code into each cell to print the following information. **Remember to use the `Animal` object methods as much as possible!**\n",
    "   - number of animals in the Zoo\n",
    "   - number of people you need to hire (round up to next integer number!) to take care of the animals\n",
    "   - total area required for the Zoo\n",
    "   - For today's date, print the average number of days the animals have spent in the Zoo so far (**hint**: there's a function that returns how long an individual animal has been in the zoo!)\n",
    "   - print names of animals, together with their kind in alphabetical order (e.g. \"Alex, lion\");\n"
   ]
  },
  {
   "cell_type": "code",
   "execution_count": 34,
   "metadata": {},
   "outputs": [
    {
     "name": "stdout",
     "output_type": "stream",
     "text": [
      "5\n"
     ]
    }
   ],
   "source": [
    "# print number of animals in the Zoo\n",
    "num_animals = len(zoo)\n",
    "print(num_animals)"
   ]
  },
  {
   "cell_type": "code",
   "execution_count": 36,
   "metadata": {},
   "outputs": [
    {
     "name": "stdout",
     "output_type": "stream",
     "text": [
      "11\n"
     ]
    }
   ],
   "source": [
    "# print number of people you need to hire (round up to next integer number!) to take care for animals\n",
    "import math\n",
    "\n",
    "total_keepers = sum(math.ceil(animal.get_number_keepers()) for animal in zoo)\n",
    "print(total_keepers)"
   ]
  },
  {
   "cell_type": "code",
   "execution_count": 37,
   "metadata": {},
   "outputs": [
    {
     "name": "stdout",
     "output_type": "stream",
     "text": [
      "3700\n"
     ]
    }
   ],
   "source": [
    "# print total area of the ZOO\n",
    "total_area = sum(animal.get_required_area() for animal in zoo)\n",
    "print(total_area)"
   ]
  },
  {
   "cell_type": "code",
   "execution_count": null,
   "metadata": {},
   "outputs": [],
   "source": [
    "# print the average duration of days the animals are in your Zoo. Look at Animal.py to determine if there is a function that can help with this...\n"
   ]
  },
  {
   "cell_type": "code",
   "execution_count": 56,
   "metadata": {},
   "outputs": [
    {
     "name": "stdout",
     "output_type": "stream",
     "text": [
      "elephant, Manny\n",
      "giraffe, Melman\n",
      "hippo, Gloria\n",
      "lion, Alex\n",
      "zebra, Marty\n"
     ]
    }
   ],
   "source": [
    "# print names of animals in alphabetical order, together with their kind (example: Alex, lion)\n",
    "# hint: store all names of animals in a list and use the sort method to sort the list\n",
    "sorted_animals = sorted(zoo, key=lambda animal: animal.name)  \n",
    "for animal in sorted_animals:\n",
    "    print(f\"{animal.name}, {animal.kind}\") "
   ]
  },
  {
   "cell_type": "markdown",
   "metadata": {},
   "source": [
    "---\n",
    "<a id=\"visualize\"></a>\n",
    "## 4: Visualizing some information about your Zoo (time permitting)"
   ]
  },
  {
   "cell_type": "markdown",
   "metadata": {},
   "source": [
    "**&#9989; Do This:** Using the animal objects that you used to create your Zoo, do some additional data manipulation, and plot the following:\n",
    " - bar plot of number of animals of each kind (number of lions, zebras, etc.)\n",
    " \n",
    "**Hint(s):** There are many ways to do this, two possible ways are:\n",
    " - using `matplotlib.pyplot`: use method `bar()` for plotting. The method requires two lists: one for animal types (X axis), the other for number of each animal type (Y axis):\n",
    "   - using a dictionary makes it easier to store animal types and their count\n",
    "   - check methods `keys()` and `values()` how to get lists of keys and values from a dictionary\n",
    " <br><br>  \n",
    " - using `pandas`: use method `plot(kind='bar')`. Pandas also has a method `value_counts()` that might be useful to create data necessary for bar plot."
   ]
  },
  {
   "cell_type": "code",
   "execution_count": 59,
   "metadata": {},
   "outputs": [
    {
     "data": {
      "image/png": "[encoded data removed]",
      "text/plain": [
       "<Figure size 640x480 with 1 Axes>"
      ]
     },
     "metadata": {},
     "output_type": "display_data"
    }
   ],
   "source": [
    "# put your code here\n",
    "import pandas as pd\n",
    "\n",
    "# Create a DataFrame from the list of animal species\n",
    "df = pd.DataFrame({'species': [animal.kind for animal in zoo]})\n",
    "\n",
    "# Count the occurrences of each species\n",
    "species_count = df['species'].value_counts()\n",
    "\n",
    "# Create a bar plot using pandas\n",
    "species_count.plot(kind='bar')\n",
    "\n",
    "# Set plot labels and title\n",
    "plt.xlabel('Animal Species')\n",
    "plt.ylabel('Number of Animals')\n",
    "plt.title('Number of Animals of Each Kind in the Zoo')\n",
    "\n",
    "# Display the plot\n",
    "plt.xticks(rotation=45)  # Rotate x-axis labels if necessary\n",
    "plt.show()\n"
   ]
  },
  {
   "cell_type": "markdown",
   "metadata": {
    "tags": []
   },
   "source": [
    "---\n",
    "### &#128721; STOP\n",
    "Check in with an instructor before you leave class!\n",
    "\n",
    "---"
   ]
  },
  {
   "cell_type": "markdown",
   "metadata": {},
   "source": [
    "---"
   ]
  },
  {
   "cell_type": "markdown",
   "metadata": {},
   "source": [
    "## Congratulations, you're done!\n",
    "\n",
    "Submit this assignment by uploading it to the course Desire2Learn web page.  Go to the \"In-class assignments\" folder, find the appropriate submission folder, and upload it there.\n",
    "\n",
    "See you next class!"
   ]
  },
  {
   "cell_type": "markdown",
   "metadata": {},
   "source": [
    "&#169; Copyright 2024,  Department of Computational Mathematics, Science and Engineering at Michigan State University\n",
    "\n",
    "<!-- 8/29/2024 -->"
   ]
  },
  {
   "cell_type": "markdown",
   "metadata": {},
   "source": []
  }
 ],
 "metadata": {
  "kernelspec": {
   "display_name": "Python 3.11 (default)",
   "language": "python",
   "name": "python3"
  },
  "language_info": {
   "codemirror_mode": {
    "name": "ipython",
    "version": 3
   },
   "file_extension": ".py",
   "mimetype": "text/x-python",
   "name": "python",
   "nbconvert_exporter": "python",
   "pygments_lexer": "ipython3",
   "version": "3.11.9"
  }
 },
 "nbformat": 4,
 "nbformat_minor": 4
}
