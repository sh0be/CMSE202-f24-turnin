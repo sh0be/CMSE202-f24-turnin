{
 "cells": [
  {
   "cell_type": "markdown",
   "metadata": {},
   "source": [
    "# In-class Assignment: We have a Zoo! (part 2)\n",
    "# Day 7 \n",
    "# CMSE 202\n",
    "\n",
    "<img src=\"https://pbs.twimg.com/media/DvXxcwdX0AEPaJ4.jpg\" width=500px>"
   ]
  },
  {
   "cell_type": "markdown",
   "metadata": {},
   "source": [
    "### <p style=\"text-align: right;\"> &#9989; Put your name here.\n",
    "<p style=\"text-align: right;\"> &#9989; Put your group member names here."
   ]
  },
  {
   "cell_type": "markdown",
   "metadata": {},
   "source": [
    "## Learning Goals:\n",
    "\n",
    "By the end of this assignment you should be able to:\n",
    "* Create a custom class from scratch\n",
    "* Practice using inheritance and composition using custom classes\n",
    "* Setting/getting values of attributes from objects stored in combined object\n",
    "\n",
    "## Agenda\n",
    "\n",
    "**Agenda of today's in-class assignment**\n",
    "1. [Creating a `Person` object](#person)\n",
    "2. [Assemble a Zoo](#assemble)\n",
    "3. [Accessing information about the Zoo](#access)\n",
    "\n",
    "**Additional assignment (time permitting):**\n",
    " \n",
    "4. [Checking our Zoo staffing more carefully](#extra)\n",
    "\n",
    "## Assignment instructions\n",
    "\n",
    "Instructions for submitting this assignment are at the end of the notebook. The assignment is due at the end of class.\n",
    "\n",
    "### Download additional files\n",
    "\n",
    "There are a couple extra file that you need for this assignment named \"Animals.py\" and \"Zoo.py\". **Make sure you download those files and put them in the same location as this Jupyter notebook**. Theses file contains the definition of the classes you will use in the assignment. You can get them here:\n",
    "\n",
    "`https://raw.githubusercontent.com/msu-cmse-courses/cmse202-supplemental-data/main/code_samples/Animals.py`\n",
    "\n",
    "`https://raw.githubusercontent.com/msu-cmse-courses/cmse202-supplemental-data/main/code_samples/Zoo.py`\n",
    "\n",
    "**&#9989; Do This:** After you have the new files, run this cell to make sure all of your objects import correctly!"
   ]
  },
  {
   "cell_type": "code",
   "execution_count": null,
   "metadata": {},
   "outputs": [],
   "source": [
    "# import animal and zoo class; Animal file contains definitions of all required animal classes\n",
    "from Animals import Animal, Penguin, Zebra, Lion\n",
    "from Zoo import Zoo\n",
    "\n",
    "# import usual classes\n",
    "import numpy as np\n",
    "import matplotlib.pyplot as plt\n",
    "\n",
    "# The magic command below tells Jupyter Notebook to automatically load classes and methods from external files \n",
    "# in case they have changed from last load time;\n",
    "# This is needed when you change the Animal.py file\n",
    "%reload_ext autoreload\n",
    "%autoreload 2"
   ]
  },
  {
   "cell_type": "markdown",
   "metadata": {},
   "source": [
    "---\n",
    "<a id=\"person\"></a>\n",
    "## 1: Creating a `Person` object\n",
    "\n",
    "The objective of the first part of the assignment is to create a class that will allow us to add personnel to the Zoo object. To practice creating and using custom (not built-in) classes in Python, we will create a `Person` class based on list of requirements that object needs to provide. \n",
    "\n",
    "The `Person` object's attributes and methods, that is, the \"functionality\" of the object, is as follows:\n",
    " - **attributes in the class** (information that can be stored in the class):\n",
    "   - person's name\n",
    "   - kind of animal they are specialized for (are trained to take care of)\n",
    "   - how many animals can the person take care of\n",
    "\n",
    "\n",
    " - **methods that the class has to provide**:\n",
    "   - initialization of the class: the method should **accept one parameter** - person's name\n",
    "      - the initialization should also define initial values for all attributes of the class\n",
    "   - `set_name`: set person's name\n",
    "   - `get_name`: get person's name\n",
    "   - `set_specialty`: set specialty of the person by defining which animal the person can be responsible for and how many of them they are capable of taking care of\n",
    "      - parameters given to this method are: animal kind, number of animals\n",
    "   - `get_kind`: get animal 'kind' for which the person is responsible for\n",
    "   - `get_number_animals`: get number of animals the person can be responsible for\n",
    "   - `get_specialty`: get person's specialty (animal kind _and_ number of them)\n",
    "      - the method should return **two** values: animal kind, number of animals\n",
    "   - `info`: prints person's information: name, animal kind, number of animals\n",
    "\n",
    "**&#9989; Do This:** Write all necessary code in the cell below and test your code regularly. We recommend writing pseudo code, using a virtual document/whiteboard or one of the ones in the classroom, and discussing with group members as necessary. If it takes longer that you would expect, no worries! The process of creating the class is important and take practice to get used to. \n",
    "\n",
    "**Hint:** When writing from scratch, make small changes/additions to the code and test the code often! Doing many small steps is much better than few huge steps. "
   ]
  },
  {
   "cell_type": "code",
   "execution_count": null,
   "metadata": {},
   "outputs": [],
   "source": [
    "# Create your Person class code here\n"
   ]
  },
  {
   "cell_type": "markdown",
   "metadata": {},
   "source": [
    "### 1.1 Test your code!\n",
    "\n",
    "**&#9989; Do This:** Use the code in the cell below to test your `Person` class. The code creates two objects as zookeepers and prints their information, provided by method `Person.info()`. This short code tests that attributes are defined and stored correctly, and that one can retrieve attributed from class. The printout should look similar to this, but will vary based on how you formatted your print statements:\n",
    "```\n",
    "Jack is a zookeeper and can take care of maximum 1 lion(s).\n",
    "Suzy is a zookeeper and can take care of maximum 3 penguin(s).\n",
    "```\n",
    "If that's the case, you are good to move on!"
   ]
  },
  {
   "cell_type": "code",
   "execution_count": null,
   "metadata": {},
   "outputs": [],
   "source": [
    "# test your class with following code\n",
    "jack = Person('Jack')\n",
    "jack.set_specialty('lion', 1)\n",
    "jack.info()\n",
    "suzy = Person('Suzy')\n",
    "suzy.set_specialty('penguin', 3)\n",
    "suzy.info()\n"
   ]
  },
  {
   "cell_type": "markdown",
   "metadata": {},
   "source": [
    "---\n",
    "<a id=\"assemble\"></a>\n",
    "## 2: Assemble a Zoo\n",
    "\n",
    "The class for Zoo personnel is now prepared and tested. With this in hand, we can create a Zoo with all classes we have at our disposal: `Zoo`, `Animal` and all derived animal classes (`Lion`, `Zebra`, `Penguin`), and your newly created `Person` class."
   ]
  },
  {
   "cell_type": "markdown",
   "metadata": {},
   "source": [
    "### 2.1 Creating animal and personnel objects\n",
    "\n",
    "First we need to create all objects for animals and zookeepers and store them in the `Zoo` object. Create the following objects:\n",
    " - animal objects (you can copy animals from your pre-class assignment or create new ones). **Remember**: when creating animals you should be using the special Animal classes that inherited the original basic `Animal` class (e.g. `Penguin`, `Lion`, etc.)\n",
    " - personnel objects:\n",
    "    - Geoffrey: can take care of 1 lion\n",
    "    - Cobie: can take care of 3 penguins\n",
    "    - Jai: can take care of 2 penguins\n",
    "    - Rui: can take care of 3 zebras\n",
    "    - Mallory: can take care of 3 lions\n",
    "\n",
    "**&#9989; Do This:** Write code that will define necessary animal and person objects in the cell below."
   ]
  },
  {
   "cell_type": "code",
   "execution_count": null,
   "metadata": {},
   "outputs": [],
   "source": [
    "# put your code here\n"
   ]
  },
  {
   "cell_type": "markdown",
   "metadata": {},
   "source": [
    "### 2.2 Creating a Zoo\n",
    "\n",
    "Finally, let's create a zoo. The `Zoo` class (defined in file `Zoo.py`) provides all required attributes and methods to set/get/print information in the zoo. As in the pre-class assignments, we have to \"add\" our animal and person objects to the `Zoo` object (composition!). \n",
    "\n",
    "We should do the following:\n",
    " - create a `Zoo` object, you can name the zoo anything you'd like\n",
    " - add your animal objects to the `Zoo` object (they should be created in cells above)\n",
    " - add your personnel objects to the `Zoo` object (they should be created in cells above)\n",
    " - print the name of all the animal in the zoo\n",
    " - print number of personnel that work for the zoo\n",
    "\n",
    "Because the `Zoo` class is given, you should get **familiar with the class** first. Check what methods you need to use to achieve the tasks listed above and what are their arguments (parameters). There are  many ways to do this, either by opening the file and checking the content, using `dir()` to get the list methods (and attributes) in the object, or using `?` to get the description of individual methods.\n",
    "\n",
    "**Hint:** to get required parameters for creating an object, you can use `?` for the `__init__` method: `Animal.__init__?`.\n",
    "\n",
    "**&#9989; Do This:** Write code that will create a `Zoo` object, add all animal and personnel objects to your zoo, and then use the appropriate methods to pring the animal names and the number of personnel that work for your zoo."
   ]
  },
  {
   "cell_type": "code",
   "execution_count": null,
   "metadata": {},
   "outputs": [],
   "source": [
    "# put your code here\n"
   ]
  },
  {
   "cell_type": "markdown",
   "metadata": {},
   "source": [
    "---\n",
    "<a id=\"access\"></a>\n",
    "## 3: Accessing information about the Zoo\n",
    "\n",
    "### 3.1 Printing basic information about the Zoo\n",
    "\n",
    "We will proceed by printing similar information about our zoo as you did in the pre-class assignment. Of course now the zoo is defined as a `Zoo` **object** instead as a list.\n",
    "\n",
    "**&#9989; Do This:** Print out some more (or less) interesting facts about our zoo. Write the code into each cell to print the following information:\n",
    "   - number of animals in the zoo\n",
    "   - names of people hired by the zoo\n",
    "   - number of people you need to hire (round up to next integer number!) to take care of the animals (based on the number of zookeepers required per animal)\n",
    "   - total area of the zoo\n"
   ]
  },
  {
   "cell_type": "code",
   "execution_count": null,
   "metadata": {},
   "outputs": [],
   "source": [
    "# print number of animals in the Zoo\n"
   ]
  },
  {
   "cell_type": "code",
   "execution_count": null,
   "metadata": {},
   "outputs": [],
   "source": [
    "# print number of people hired by the Zoo\n"
   ]
  },
  {
   "cell_type": "code",
   "execution_count": null,
   "metadata": {},
   "outputs": [],
   "source": [
    "# print number of people you need to hire (round up to next integer number!) to take care for animals\n"
   ]
  },
  {
   "cell_type": "code",
   "execution_count": null,
   "metadata": {},
   "outputs": [],
   "source": [
    "# print total area of the Zoo\n"
   ]
  },
  {
   "cell_type": "markdown",
   "metadata": {},
   "source": [
    "### 3.2 Printing advanced Zoo information - is the Zoo understaffed or overstaffed?\n",
    "\n",
    "**&#9989; Do This:** Now we will print some more logistic information about the zoo. Specifically, we will check if the zoo has enough people to take care for all animals in the zoo. For now, **we will just check and see how many total zoo keepers are required and how many total animals the zookeepers can take care of**, you don't need to worry about which animals are within the zookeepers specialities. Keep in mind that a single person can take care of more than one animal and single animal may require more that one zookeeper. \n",
    "\n",
    "You will have 4 numbers you need to look at: \n",
    " - number of zookeepers in the zoo, \n",
    " - required number of zookeepers\n",
    " - number of animals in the zoo\n",
    " - number of animals zookeepers in the zoo can take care of\n",
    " \n",
    "It might be helpful to print out all four numbers and then decide, based on those values, if the zoo is understaffed or overstaffed.\n"
   ]
  },
  {
   "cell_type": "code",
   "execution_count": null,
   "metadata": {},
   "outputs": [],
   "source": [
    "# Determine if the Zoo is understaffed or overstaffed (just by comparing total number of people needed and available, not by types animal they are trained to care for)\n",
    "# Note: keep in mind that each person can take care for more than one animal and single animal may require more than one person\n",
    "\n"
   ]
  },
  {
   "cell_type": "markdown",
   "metadata": {},
   "source": [
    "---\n",
    "<font size=+2>&#x23F8;</font> **Nice work!** You've completed all of the important content for today. If you still have time left, try to tackle the next section as well.\n",
    "\n",
    "---\n",
    "<a id=\"extra\"></a>\n",
    "## 4. Checking our Zoo staffing more carefully (time permitting)"
   ]
  },
  {
   "cell_type": "markdown",
   "metadata": {},
   "source": [
    "**&#9989; Do This:** Try to perform a more detailed check to see if the zoo is understaffed or if they have enough people to take care of all animals in the zoo. This time the check will be done to ensure that there are enough properly training zookeepers to take care of the variety of animals in the Zoo. The code should print all of the different types of animals in the zoo, along with number of available and required zookeepers to care for those animals.\n",
    "\n",
    "**Hint 1:** The task is similar to the last task for part 3, but now you need to check on an animal by animal basis. You can use a dictionary for storing information about available and required number of people for each animal. \n",
    "\n",
    "**Hint 2:** If you used non-integer numbers for number of animals each zookeeper can handle and/or for number of zookeepers is required for individual animal, do not forget to round the number of people at the end of the loop over animals. The required number of people should be rounded up, available number of people should be rounded down."
   ]
  },
  {
   "cell_type": "code",
   "execution_count": null,
   "metadata": {},
   "outputs": [],
   "source": [
    "# put your code here\n"
   ]
  },
  {
   "cell_type": "markdown",
   "metadata": {},
   "source": [
    "---"
   ]
  },
  {
   "cell_type": "markdown",
   "metadata": {},
   "source": [
    "## Congratulations, you're done!\n",
    "\n",
    "Submit this assignment by uploading it to the course Desire2Learn web page.  Go to the \"In-class assignments\" folder, find the appropriate submission folder, and upload it there.\n",
    "\n",
    "See you next class!"
   ]
  },
  {
   "cell_type": "markdown",
   "metadata": {},
   "source": [
    "&#169; Copyright 2024,  Department of Computational Mathematics, Science and Engineering at Michigan State University\n",
    "\n",
    "<!-- 8/29/2024 -->"
   ]
  },
  {
   "cell_type": "markdown",
   "metadata": {},
   "source": []
  }
 ],
 "metadata": {
  "kernelspec": {
   "display_name": "Python 3 (ipykernel)",
   "language": "python",
   "name": "python3"
  },
  "language_info": {
   "codemirror_mode": {
    "name": "ipython",
    "version": 3
   },
   "file_extension": ".py",
   "mimetype": "text/x-python",
   "name": "python",
   "nbconvert_exporter": "python",
   "pygments_lexer": "ipython3",
   "version": "3.11.4"
  }
 },
 "nbformat": 4,
 "nbformat_minor": 4
}
